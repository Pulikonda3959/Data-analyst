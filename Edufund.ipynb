{
  "nbformat": 4,
  "nbformat_minor": 0,
  "metadata": {
    "colab": {
      "provenance": [],
      "authorship_tag": "ABX9TyPn2tCc34IdwJxzOncOUrct",
      "include_colab_link": true
    },
    "kernelspec": {
      "name": "python3",
      "display_name": "Python 3"
    },
    "language_info": {
      "name": "python"
    }
  },
  "cells": [
    {
      "cell_type": "markdown",
      "metadata": {
        "id": "view-in-github",
        "colab_type": "text"
      },
      "source": [
        "<a href=\"https://colab.research.google.com/github/Pulikonda3959/Data-analyst/blob/main/Edufund.ipynb\" target=\"_parent\"><img src=\"https://colab.research.google.com/assets/colab-badge.svg\" alt=\"Open In Colab\"/></a>"
      ]
    },
    {
      "cell_type": "code",
      "source": [
        "# Import necessary libraries\n",
        "import pandas as pd\n",
        "import numpy as np\n",
        "\n",
        "# Task 1.1: Create a synthetic dataset\n",
        "np.random.seed(42)  # Setting seed for reproducibility\n",
        "\n",
        "# Assuming 1000 users\n",
        "num_users = 1000\n",
        "\n",
        "# Generate synthetic data for user attributes and behaviors\n",
        "user_ids = np.arange(1, num_users + 1)\n",
        "age = np.random.randint(18, 60, num_users)\n",
        "income = np.random.randint(30000, 100000, num_users)\n",
        "goal_creation = np.random.choice([0, 1], size=num_users, p=[0.7, 0.3])\n",
        "investment = np.random.choice([0, 1], size=num_users, p=[0.8, 0.2])\n",
        "\n",
        "# Create a synthetic dataset\n",
        "synthetic_data = pd.DataFrame({\n",
        "    'user_id': user_ids,\n",
        "    'age': age,\n",
        "    'income': income,\n",
        "    'goal_creation': goal_creation,\n",
        "    'investment': investment\n",
        "})\n",
        "\n",
        "# Task 1.2: Create a data dictionary\n",
        "data_dictionary = {\n",
        "    'user_id': 'User ID',\n",
        "    'age': 'User age',\n",
        "    'income': 'User income',\n",
        "    'goal_creation': '1 if user created a goal, 0 otherwise',\n",
        "    'investment': '1 if user invested, 0 otherwise'\n",
        "}\n",
        "\n",
        "# Display the synthetic dataset and data dictionary\n",
        "print(\"Synthetic Dataset:\")\n",
        "print(synthetic_data.head())\n",
        "\n",
        "print(\"\\nData Dictionary:\")\n",
        "for key, value in data_dictionary.items():\n",
        "    print(f\"{key}: {value}\")\n"
      ],
      "metadata": {
        "colab": {
          "base_uri": "https://localhost:8080/"
        },
        "id": "8ZOAKbqh7QuO",
        "outputId": "0c92cd0d-9b85-4be8-e1b6-6bbb0f2622e1"
      },
      "execution_count": 1,
      "outputs": [
        {
          "output_type": "stream",
          "name": "stdout",
          "text": [
            "Synthetic Dataset:\n",
            "   user_id  age  income  goal_creation  investment\n",
            "0        1   56   44382              0           0\n",
            "1        2   46   33756              0           0\n",
            "2        3   32   50609              0           0\n",
            "3        4   25   46478              0           0\n",
            "4        5   38   69666              0           0\n",
            "\n",
            "Data Dictionary:\n",
            "user_id: User ID\n",
            "age: User age\n",
            "income: User income\n",
            "goal_creation: 1 if user created a goal, 0 otherwise\n",
            "investment: 1 if user invested, 0 otherwise\n"
          ]
        }
      ]
    },
    {
      "cell_type": "code",
      "source": [
        "# Task 2.1: Analyze the synthetic data\n",
        "# You can perform exploratory data analysis and visualization here\n",
        "\n",
        "# Task 2.2: Develop predictive models\n",
        "from sklearn.model_selection import train_test_split\n",
        "from sklearn.ensemble import RandomForestClassifier\n",
        "from sklearn.metrics import accuracy_score, classification_report\n",
        "\n",
        "# Split the data into features (X) and target variable (y)\n",
        "X = synthetic_data[['age', 'income']]\n",
        "y = synthetic_data['goal_creation']\n",
        "\n",
        "# Split the data into training and testing sets\n",
        "X_train, X_test, y_train, y_test = train_test_split(X, y, test_size=0.2, random_state=42)\n",
        "\n",
        "# Initialize the RandomForestClassifier\n",
        "model = RandomForestClassifier(random_state=42)\n",
        "\n",
        "# Train the model\n",
        "model.fit(X_train, y_train)\n",
        "\n",
        "# Task 2.3: Evaluate model performance\n",
        "# Make predictions on the test set\n",
        "y_pred = model.predict(X_test)\n",
        "\n",
        "# Evaluate accuracy\n",
        "accuracy = accuracy_score(y_test, y_pred)\n",
        "print(f\"\\nModel Accuracy: {accuracy:.2f}\")\n",
        "\n",
        "# Display classification report\n",
        "print(\"\\nClassification Report:\")\n",
        "print(classification_report(y_test, y_pred))\n"
      ],
      "metadata": {
        "colab": {
          "base_uri": "https://localhost:8080/"
        },
        "id": "0NpvwKlU7YIz",
        "outputId": "91d78c4f-0f66-410f-d0cd-5d5d7cfaf978"
      },
      "execution_count": 2,
      "outputs": [
        {
          "output_type": "stream",
          "name": "stdout",
          "text": [
            "\n",
            "Model Accuracy: 0.65\n",
            "\n",
            "Classification Report:\n",
            "              precision    recall  f1-score   support\n",
            "\n",
            "           0       0.73      0.80      0.76       143\n",
            "           1       0.34      0.26      0.30        57\n",
            "\n",
            "    accuracy                           0.65       200\n",
            "   macro avg       0.54      0.53      0.53       200\n",
            "weighted avg       0.62      0.65      0.63       200\n",
            "\n"
          ]
        }
      ]
    },
    {
      "cell_type": "code",
      "source": [
        "# Task 3: Create a strategy based on model results\n",
        "# You can use the trained model to predict which users are likely to create goals and invest\n",
        "\n",
        "# Example: Target users with predicted goal creation probability > 0.5 for goal creation\n",
        "predicted_probabilities = model.predict_proba(X_test)[:, 1]\n",
        "target_users = X_test[predicted_probabilities > 0.5]\n",
        "\n",
        "# Display the targeted users\n",
        "print(\"\\nTargeted Users:\")\n",
        "print(target_users)\n"
      ],
      "metadata": {
        "colab": {
          "base_uri": "https://localhost:8080/"
        },
        "id": "BH251lBy7eQX",
        "outputId": "f36c3d09-661d-4941-feb2-49da1b3ae028"
      },
      "execution_count": 3,
      "outputs": [
        {
          "output_type": "stream",
          "name": "stdout",
          "text": [
            "\n",
            "Targeted Users:\n",
            "     age  income\n",
            "411   43   52890\n",
            "513   36   38712\n",
            "938   36   82130\n",
            "319   49   65400\n",
            "210   23   96017\n",
            "235   47   87134\n",
            "101   25   70806\n",
            "901   57   48752\n",
            "299   45   92187\n",
            "277   50   53510\n",
            "879   36   83363\n",
            "54    19   36783\n",
            "542   46   65488\n",
            "866   32   99249\n",
            "70    57   54917\n",
            "292   25   99346\n",
            "289   47   57788\n",
            "652   50   63397\n",
            "998   25   72468\n",
            "714   56   67208\n",
            "327   20   59757\n",
            "635   34   74965\n",
            "644   23   97649\n",
            "86    25   63536\n",
            "294   44   46371\n",
            "892   20   76479\n",
            "260   55   99768\n",
            "237   52   31341\n",
            "583   45   40326\n",
            "445   33   54860\n",
            "800   31   93646\n",
            "849   47   59371\n",
            "120   43   47327\n",
            "721   32   56984\n",
            "281   25   74547\n",
            "822   21   61910\n",
            "321   50   73001\n",
            "429   47   72207\n",
            "767   59   89889\n",
            "649   27   42588\n",
            "314   46   64801\n",
            "363   49   64701\n",
            "355   33   58831\n",
            "948   56   67685\n"
          ]
        }
      ]
    },
    {
      "cell_type": "code",
      "source": [
        "# Task 4: Reporting and Presentation\n",
        "# You can use Markdown cells in a Jupyter Notebook for this task\n",
        "# Example Report (Markdown)\n",
        "\"\"\"\n",
        "## Data-Driven Strategy for User Engagement and Conversion\n",
        "\n",
        "\"\"\"\n",
        "### Task 1: Data Exploration and Understanding\n",
        "#### Synthetic Dataset\n",
        "# Display synthetic dataset\n",
        "print(synthetic_data.head())\n"
      ],
      "metadata": {
        "colab": {
          "base_uri": "https://localhost:8080/"
        },
        "id": "iDF2XDQi7h8I",
        "outputId": "fb302e0f-b0fc-4216-b762-b6e5910254fd"
      },
      "execution_count": 7,
      "outputs": [
        {
          "output_type": "stream",
          "name": "stdout",
          "text": [
            "   user_id  age  income  goal_creation  investment\n",
            "0        1   56   44382              0           0\n",
            "1        2   46   33756              0           0\n",
            "2        3   32   50609              0           0\n",
            "3        4   25   46478              0           0\n",
            "4        5   38   69666              0           0\n"
          ]
        }
      ]
    },
    {
      "cell_type": "code",
      "source": [
        "# Display data dictionary\n",
        "for key, value in data_dictionary.items():\n",
        "    print(f\"{key}: {value}\")\n"
      ],
      "metadata": {
        "colab": {
          "base_uri": "https://localhost:8080/"
        },
        "id": "PxiptJDC7zIo",
        "outputId": "0c4d4b8f-8f3a-4536-ab01-f82a01afcdb1"
      },
      "execution_count": 8,
      "outputs": [
        {
          "output_type": "stream",
          "name": "stdout",
          "text": [
            "user_id: User ID\n",
            "age: User age\n",
            "income: User income\n",
            "goal_creation: 1 if user created a goal, 0 otherwise\n",
            "investment: 1 if user invested, 0 otherwise\n"
          ]
        }
      ]
    },
    {
      "cell_type": "code",
      "source": [
        "# Display model accuracy\n",
        "print(f\"Model Accuracy: {accuracy:.2f}\")\n"
      ],
      "metadata": {
        "colab": {
          "base_uri": "https://localhost:8080/"
        },
        "id": "YAMm2YR-8Mtt",
        "outputId": "654f9a69-f380-4eb1-b2a5-5dc10ff7f69b"
      },
      "execution_count": 9,
      "outputs": [
        {
          "output_type": "stream",
          "name": "stdout",
          "text": [
            "Model Accuracy: 0.65\n"
          ]
        }
      ]
    },
    {
      "cell_type": "code",
      "source": [
        "# Display targeted users\n",
        "print(target_users)\n"
      ],
      "metadata": {
        "colab": {
          "base_uri": "https://localhost:8080/"
        },
        "id": "VsutRUBc8Q9g",
        "outputId": "68a3092a-0ac6-47e6-9334-5825ea347bcd"
      },
      "execution_count": 12,
      "outputs": [
        {
          "output_type": "stream",
          "name": "stdout",
          "text": [
            "     age  income\n",
            "411   43   52890\n",
            "513   36   38712\n",
            "938   36   82130\n",
            "319   49   65400\n",
            "210   23   96017\n",
            "235   47   87134\n",
            "101   25   70806\n",
            "901   57   48752\n",
            "299   45   92187\n",
            "277   50   53510\n",
            "879   36   83363\n",
            "54    19   36783\n",
            "542   46   65488\n",
            "866   32   99249\n",
            "70    57   54917\n",
            "292   25   99346\n",
            "289   47   57788\n",
            "652   50   63397\n",
            "998   25   72468\n",
            "714   56   67208\n",
            "327   20   59757\n",
            "635   34   74965\n",
            "644   23   97649\n",
            "86    25   63536\n",
            "294   44   46371\n",
            "892   20   76479\n",
            "260   55   99768\n",
            "237   52   31341\n",
            "583   45   40326\n",
            "445   33   54860\n",
            "800   31   93646\n",
            "849   47   59371\n",
            "120   43   47327\n",
            "721   32   56984\n",
            "281   25   74547\n",
            "822   21   61910\n",
            "321   50   73001\n",
            "429   47   72207\n",
            "767   59   89889\n",
            "649   27   42588\n",
            "314   46   64801\n",
            "363   49   64701\n",
            "355   33   58831\n",
            "948   56   67685\n"
          ]
        }
      ]
    }
  ]
}