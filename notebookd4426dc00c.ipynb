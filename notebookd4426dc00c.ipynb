{
  "metadata": {
    "kernelspec": {
      "language": "python",
      "display_name": "Python 3",
      "name": "python3"
    },
    "language_info": {
      "name": "python",
      "version": "3.10.13",
      "mimetype": "text/x-python",
      "codemirror_mode": {
        "name": "ipython",
        "version": 3
      },
      "pygments_lexer": "ipython3",
      "nbconvert_exporter": "python",
      "file_extension": ".py"
    },
    "kaggle": {
      "accelerator": "none",
      "dataSources": [
        {
          "sourceId": 352891,
          "sourceType": "datasetVersion",
          "datasetId": 153420
        }
      ],
      "dockerImageVersionId": 30664,
      "isInternetEnabled": false,
      "language": "python",
      "sourceType": "notebook",
      "isGpuEnabled": false
    },
    "colab": {
      "name": "notebookd4426dc00c",
      "provenance": [],
      "include_colab_link": true
    }
  },
  "nbformat_minor": 0,
  "nbformat": 4,
  "cells": [
    {
      "cell_type": "markdown",
      "metadata": {
        "id": "view-in-github",
        "colab_type": "text"
      },
      "source": [
        "<a href=\"https://colab.research.google.com/github/Pulikonda3959/Data-analyst/blob/main/notebookd4426dc00c.ipynb\" target=\"_parent\"><img src=\"https://colab.research.google.com/assets/colab-badge.svg\" alt=\"Open In Colab\"/></a>"
      ]
    },
    {
      "source": [
        "\n",
        "# IMPORTANT: RUN THIS CELL IN ORDER TO IMPORT YOUR KAGGLE DATA SOURCES\n",
        "# TO THE CORRECT LOCATION (/kaggle/input) IN YOUR NOTEBOOK,\n",
        "# THEN FEEL FREE TO DELETE THIS CELL.\n",
        "# NOTE: THIS NOTEBOOK ENVIRONMENT DIFFERS FROM KAGGLE'S PYTHON\n",
        "# ENVIRONMENT SO THERE MAY BE MISSING LIBRARIES USED BY YOUR\n",
        "# NOTEBOOK.\n",
        "\n",
        "import os\n",
        "import sys\n",
        "from tempfile import NamedTemporaryFile\n",
        "from urllib.request import urlopen\n",
        "from urllib.parse import unquote, urlparse\n",
        "from urllib.error import HTTPError\n",
        "from zipfile import ZipFile\n",
        "import tarfile\n",
        "import shutil\n",
        "\n",
        "CHUNK_SIZE = 40960\n",
        "DATA_SOURCE_MAPPING = 'zomato-bangalore-restaurants:https%3A%2F%2Fstorage.googleapis.com%2Fkaggle-data-sets%2F153420%2F352891%2Fbundle%2Farchive.zip%3FX-Goog-Algorithm%3DGOOG4-RSA-SHA256%26X-Goog-Credential%3Dgcp-kaggle-com%2540kaggle-161607.iam.gserviceaccount.com%252F20240306%252Fauto%252Fstorage%252Fgoog4_request%26X-Goog-Date%3D20240306T045533Z%26X-Goog-Expires%3D259200%26X-Goog-SignedHeaders%3Dhost%26X-Goog-Signature%3D00e0085e4780d182e28cb847adc2d8cbb462871761cd1074675977bc723c623954eaf348b4830082295c53ab6555ffef48195d90b4b4f1f3bdf32925cf1a9ff9fd3dff9963211dfdea7346a1314180afd0140db6d9557ba338483e7d268b5f916a967089966275ddfb211549955f6cc8611f1662206085e491080d4d53d9df95089b4b20997acbda6893dcc0a8160a9002a4c797410b4b43242db403b9f356fc2bddd628dd6c9d88986569c1a77b56abdf6a4bd1c229e2f7d9e75c034bae9776185b1920d80493d61f8e6d00b8dfe3702d7abb6915e2763d207ec5fa394878c152f993549b18a9c4edbe9c247aec6f9e84e6ac61557a38946ad13c67597a4f2e'\n",
        "\n",
        "KAGGLE_INPUT_PATH='/kaggle/input'\n",
        "KAGGLE_WORKING_PATH='/kaggle/working'\n",
        "KAGGLE_SYMLINK='kaggle'\n",
        "\n",
        "!umount /kaggle/input/ 2> /dev/null\n",
        "shutil.rmtree('/kaggle/input', ignore_errors=True)\n",
        "os.makedirs(KAGGLE_INPUT_PATH, 0o777, exist_ok=True)\n",
        "os.makedirs(KAGGLE_WORKING_PATH, 0o777, exist_ok=True)\n",
        "\n",
        "try:\n",
        "  os.symlink(KAGGLE_INPUT_PATH, os.path.join(\"..\", 'input'), target_is_directory=True)\n",
        "except FileExistsError:\n",
        "  pass\n",
        "try:\n",
        "  os.symlink(KAGGLE_WORKING_PATH, os.path.join(\"..\", 'working'), target_is_directory=True)\n",
        "except FileExistsError:\n",
        "  pass\n",
        "\n",
        "for data_source_mapping in DATA_SOURCE_MAPPING.split(','):\n",
        "    directory, download_url_encoded = data_source_mapping.split(':')\n",
        "    download_url = unquote(download_url_encoded)\n",
        "    filename = urlparse(download_url).path\n",
        "    destination_path = os.path.join(KAGGLE_INPUT_PATH, directory)\n",
        "    try:\n",
        "        with urlopen(download_url) as fileres, NamedTemporaryFile() as tfile:\n",
        "            total_length = fileres.headers['content-length']\n",
        "            print(f'Downloading {directory}, {total_length} bytes compressed')\n",
        "            dl = 0\n",
        "            data = fileres.read(CHUNK_SIZE)\n",
        "            while len(data) > 0:\n",
        "                dl += len(data)\n",
        "                tfile.write(data)\n",
        "                done = int(50 * dl / int(total_length))\n",
        "                sys.stdout.write(f\"\\r[{'=' * done}{' ' * (50-done)}] {dl} bytes downloaded\")\n",
        "                sys.stdout.flush()\n",
        "                data = fileres.read(CHUNK_SIZE)\n",
        "            if filename.endswith('.zip'):\n",
        "              with ZipFile(tfile) as zfile:\n",
        "                zfile.extractall(destination_path)\n",
        "            else:\n",
        "              with tarfile.open(tfile.name) as tarfile:\n",
        "                tarfile.extractall(destination_path)\n",
        "            print(f'\\nDownloaded and uncompressed: {directory}')\n",
        "    except HTTPError as e:\n",
        "        print(f'Failed to load (likely expired) {download_url} to path {destination_path}')\n",
        "        continue\n",
        "    except OSError as e:\n",
        "        print(f'Failed to load {download_url} to path {destination_path}')\n",
        "        continue\n",
        "\n",
        "print('Data source import complete.')\n"
      ],
      "metadata": {
        "id": "WcMEzLzJHf9v"
      },
      "cell_type": "code",
      "outputs": [],
      "execution_count": null
    },
    {
      "cell_type": "code",
      "source": [
        "import pandas as pd\n",
        "import numpy as np\n",
        "import matplotlib.pyplot as plt\n",
        "import seaborn as sns"
      ],
      "metadata": {
        "execution": {
          "iopub.status.busy": "2024-03-06T04:45:08.617947Z",
          "iopub.execute_input": "2024-03-06T04:45:08.61852Z",
          "iopub.status.idle": "2024-03-06T04:45:08.627228Z",
          "shell.execute_reply.started": "2024-03-06T04:45:08.61847Z",
          "shell.execute_reply": "2024-03-06T04:45:08.625243Z"
        },
        "trusted": true,
        "id": "2Gd-l6vUHf93"
      },
      "execution_count": null,
      "outputs": []
    },
    {
      "cell_type": "code",
      "source": [
        "pd.read_csv('/kaggle/input/zomato-bangalore-restaurants/zomato.csv')"
      ],
      "metadata": {
        "execution": {
          "iopub.status.busy": "2024-03-06T04:45:08.630683Z",
          "iopub.execute_input": "2024-03-06T04:45:08.631566Z",
          "iopub.status.idle": "2024-03-06T04:45:15.996556Z",
          "shell.execute_reply.started": "2024-03-06T04:45:08.631515Z",
          "shell.execute_reply": "2024-03-06T04:45:15.995227Z"
        },
        "trusted": true,
        "id": "_grQdeCLHf94",
        "outputId": "f5540b50-3ef1-4b6a-d6f7-0364f7f9c9a4"
      },
      "execution_count": null,
      "outputs": [
        {
          "execution_count": 29,
          "output_type": "execute_result",
          "data": {
            "text/plain": "                                                     url  \\\n0      https://www.zomato.com/bangalore/jalsa-banasha...   \n1      https://www.zomato.com/bangalore/spice-elephan...   \n2      https://www.zomato.com/SanchurroBangalore?cont...   \n3      https://www.zomato.com/bangalore/addhuri-udupi...   \n4      https://www.zomato.com/bangalore/grand-village...   \n...                                                  ...   \n51712  https://www.zomato.com/bangalore/best-brews-fo...   \n51713  https://www.zomato.com/bangalore/vinod-bar-and...   \n51714  https://www.zomato.com/bangalore/plunge-sherat...   \n51715  https://www.zomato.com/bangalore/chime-sherato...   \n51716  https://www.zomato.com/bangalore/the-nest-the-...   \n\n                                                 address  \\\n0      942, 21st Main Road, 2nd Stage, Banashankari, ...   \n1      2nd Floor, 80 Feet Road, Near Big Bazaar, 6th ...   \n2      1112, Next to KIMS Medical College, 17th Cross...   \n3      1st Floor, Annakuteera, 3rd Stage, Banashankar...   \n4      10, 3rd Floor, Lakshmi Associates, Gandhi Baza...   \n...                                                  ...   \n51712  Four Points by Sheraton Bengaluru, 43/3, White...   \n51713  Number 10, Garudachar Palya, Mahadevapura, Whi...   \n51714  Sheraton Grand Bengaluru Whitefield Hotel & Co...   \n51715  Sheraton Grand Bengaluru Whitefield Hotel & Co...   \n51716  ITPL Main Road, KIADB Export Promotion Industr...   \n\n                                                    name online_order  \\\n0                                                  Jalsa          Yes   \n1                                         Spice Elephant          Yes   \n2                                        San Churro Cafe          Yes   \n3                                  Addhuri Udupi Bhojana           No   \n4                                          Grand Village           No   \n...                                                  ...          ...   \n51712  Best Brews - Four Points by Sheraton Bengaluru...           No   \n51713                           Vinod Bar And Restaurant           No   \n51714  Plunge - Sheraton Grand Bengaluru Whitefield H...           No   \n51715  Chime - Sheraton Grand Bengaluru Whitefield Ho...           No   \n51716                       The Nest - The Den Bengaluru           No   \n\n      book_table    rate  votes                             phone  \\\n0            Yes   4.1/5    775    080 42297555\\r\\n+91 9743772233   \n1             No   4.1/5    787                      080 41714161   \n2             No   3.8/5    918                    +91 9663487993   \n3             No   3.7/5     88                    +91 9620009302   \n4             No   3.8/5    166  +91 8026612447\\r\\n+91 9901210005   \n...          ...     ...    ...                               ...   \n51712         No  3.6 /5     27                      080 40301477   \n51713         No     NaN      0                    +91 8197675843   \n51714         No     NaN      0                               NaN   \n51715        Yes  4.3 /5    236                      080 49652769   \n51716         No  3.4 /5     13                    +91 8071117272   \n\n                         location            rest_type  \\\n0                    Banashankari        Casual Dining   \n1                    Banashankari        Casual Dining   \n2                    Banashankari  Cafe, Casual Dining   \n3                    Banashankari          Quick Bites   \n4                    Basavanagudi        Casual Dining   \n...                           ...                  ...   \n51712                  Whitefield                  Bar   \n51713                  Whitefield                  Bar   \n51714                  Whitefield                  Bar   \n51715  ITPL Main Road, Whitefield                  Bar   \n51716  ITPL Main Road, Whitefield   Bar, Casual Dining   \n\n                                              dish_liked  \\\n0      Pasta, Lunch Buffet, Masala Papad, Paneer Laja...   \n1      Momos, Lunch Buffet, Chocolate Nirvana, Thai G...   \n2      Churros, Cannelloni, Minestrone Soup, Hot Choc...   \n3                                            Masala Dosa   \n4                                    Panipuri, Gol Gappe   \n...                                                  ...   \n51712                                                NaN   \n51713                                                NaN   \n51714                                                NaN   \n51715                       Cocktails, Pizza, Buttermilk   \n51716                                                NaN   \n\n                                     cuisines approx_cost(for two people)  \\\n0              North Indian, Mughlai, Chinese                         800   \n1                 Chinese, North Indian, Thai                         800   \n2                      Cafe, Mexican, Italian                         800   \n3                  South Indian, North Indian                         300   \n4                    North Indian, Rajasthani                         600   \n...                                       ...                         ...   \n51712                             Continental                       1,500   \n51713                             Finger Food                         600   \n51714                             Finger Food                       2,000   \n51715                             Finger Food                       2,500   \n51716  Finger Food, North Indian, Continental                       1,500   \n\n                                            reviews_list menu_item  \\\n0      [('Rated 4.0', 'RATED\\n  A beautiful place to ...        []   \n1      [('Rated 4.0', 'RATED\\n  Had been here for din...        []   \n2      [('Rated 3.0', \"RATED\\n  Ambience is not that ...        []   \n3      [('Rated 4.0', \"RATED\\n  Great food and proper...        []   \n4      [('Rated 4.0', 'RATED\\n  Very good restaurant ...        []   \n...                                                  ...       ...   \n51712  [('Rated 5.0', \"RATED\\n  Food and service are ...        []   \n51713                                                 []        []   \n51714                                                 []        []   \n51715  [('Rated 4.0', 'RATED\\n  Nice and friendly pla...        []   \n51716  [('Rated 5.0', 'RATED\\n  Great ambience , look...        []   \n\n      listed_in(type) listed_in(city)  \n0              Buffet    Banashankari  \n1              Buffet    Banashankari  \n2              Buffet    Banashankari  \n3              Buffet    Banashankari  \n4              Buffet    Banashankari  \n...               ...             ...  \n51712   Pubs and bars      Whitefield  \n51713   Pubs and bars      Whitefield  \n51714   Pubs and bars      Whitefield  \n51715   Pubs and bars      Whitefield  \n51716   Pubs and bars      Whitefield  \n\n[51717 rows x 17 columns]",
            "text/html": "<div>\n<style scoped>\n    .dataframe tbody tr th:only-of-type {\n        vertical-align: middle;\n    }\n\n    .dataframe tbody tr th {\n        vertical-align: top;\n    }\n\n    .dataframe thead th {\n        text-align: right;\n    }\n</style>\n<table border=\"1\" class=\"dataframe\">\n  <thead>\n    <tr style=\"text-align: right;\">\n      <th></th>\n      <th>url</th>\n      <th>address</th>\n      <th>name</th>\n      <th>online_order</th>\n      <th>book_table</th>\n      <th>rate</th>\n      <th>votes</th>\n      <th>phone</th>\n      <th>location</th>\n      <th>rest_type</th>\n      <th>dish_liked</th>\n      <th>cuisines</th>\n      <th>approx_cost(for two people)</th>\n      <th>reviews_list</th>\n      <th>menu_item</th>\n      <th>listed_in(type)</th>\n      <th>listed_in(city)</th>\n    </tr>\n  </thead>\n  <tbody>\n    <tr>\n      <th>0</th>\n      <td>https://www.zomato.com/bangalore/jalsa-banasha...</td>\n      <td>942, 21st Main Road, 2nd Stage, Banashankari, ...</td>\n      <td>Jalsa</td>\n      <td>Yes</td>\n      <td>Yes</td>\n      <td>4.1/5</td>\n      <td>775</td>\n      <td>080 42297555\\r\\n+91 9743772233</td>\n      <td>Banashankari</td>\n      <td>Casual Dining</td>\n      <td>Pasta, Lunch Buffet, Masala Papad, Paneer Laja...</td>\n      <td>North Indian, Mughlai, Chinese</td>\n      <td>800</td>\n      <td>[('Rated 4.0', 'RATED\\n  A beautiful place to ...</td>\n      <td>[]</td>\n      <td>Buffet</td>\n      <td>Banashankari</td>\n    </tr>\n    <tr>\n      <th>1</th>\n      <td>https://www.zomato.com/bangalore/spice-elephan...</td>\n      <td>2nd Floor, 80 Feet Road, Near Big Bazaar, 6th ...</td>\n      <td>Spice Elephant</td>\n      <td>Yes</td>\n      <td>No</td>\n      <td>4.1/5</td>\n      <td>787</td>\n      <td>080 41714161</td>\n      <td>Banashankari</td>\n      <td>Casual Dining</td>\n      <td>Momos, Lunch Buffet, Chocolate Nirvana, Thai G...</td>\n      <td>Chinese, North Indian, Thai</td>\n      <td>800</td>\n      <td>[('Rated 4.0', 'RATED\\n  Had been here for din...</td>\n      <td>[]</td>\n      <td>Buffet</td>\n      <td>Banashankari</td>\n    </tr>\n    <tr>\n      <th>2</th>\n      <td>https://www.zomato.com/SanchurroBangalore?cont...</td>\n      <td>1112, Next to KIMS Medical College, 17th Cross...</td>\n      <td>San Churro Cafe</td>\n      <td>Yes</td>\n      <td>No</td>\n      <td>3.8/5</td>\n      <td>918</td>\n      <td>+91 9663487993</td>\n      <td>Banashankari</td>\n      <td>Cafe, Casual Dining</td>\n      <td>Churros, Cannelloni, Minestrone Soup, Hot Choc...</td>\n      <td>Cafe, Mexican, Italian</td>\n      <td>800</td>\n      <td>[('Rated 3.0', \"RATED\\n  Ambience is not that ...</td>\n      <td>[]</td>\n      <td>Buffet</td>\n      <td>Banashankari</td>\n    </tr>\n    <tr>\n      <th>3</th>\n      <td>https://www.zomato.com/bangalore/addhuri-udupi...</td>\n      <td>1st Floor, Annakuteera, 3rd Stage, Banashankar...</td>\n      <td>Addhuri Udupi Bhojana</td>\n      <td>No</td>\n      <td>No</td>\n      <td>3.7/5</td>\n      <td>88</td>\n      <td>+91 9620009302</td>\n      <td>Banashankari</td>\n      <td>Quick Bites</td>\n      <td>Masala Dosa</td>\n      <td>South Indian, North Indian</td>\n      <td>300</td>\n      <td>[('Rated 4.0', \"RATED\\n  Great food and proper...</td>\n      <td>[]</td>\n      <td>Buffet</td>\n      <td>Banashankari</td>\n    </tr>\n    <tr>\n      <th>4</th>\n      <td>https://www.zomato.com/bangalore/grand-village...</td>\n      <td>10, 3rd Floor, Lakshmi Associates, Gandhi Baza...</td>\n      <td>Grand Village</td>\n      <td>No</td>\n      <td>No</td>\n      <td>3.8/5</td>\n      <td>166</td>\n      <td>+91 8026612447\\r\\n+91 9901210005</td>\n      <td>Basavanagudi</td>\n      <td>Casual Dining</td>\n      <td>Panipuri, Gol Gappe</td>\n      <td>North Indian, Rajasthani</td>\n      <td>600</td>\n      <td>[('Rated 4.0', 'RATED\\n  Very good restaurant ...</td>\n      <td>[]</td>\n      <td>Buffet</td>\n      <td>Banashankari</td>\n    </tr>\n    <tr>\n      <th>...</th>\n      <td>...</td>\n      <td>...</td>\n      <td>...</td>\n      <td>...</td>\n      <td>...</td>\n      <td>...</td>\n      <td>...</td>\n      <td>...</td>\n      <td>...</td>\n      <td>...</td>\n      <td>...</td>\n      <td>...</td>\n      <td>...</td>\n      <td>...</td>\n      <td>...</td>\n      <td>...</td>\n      <td>...</td>\n    </tr>\n    <tr>\n      <th>51712</th>\n      <td>https://www.zomato.com/bangalore/best-brews-fo...</td>\n      <td>Four Points by Sheraton Bengaluru, 43/3, White...</td>\n      <td>Best Brews - Four Points by Sheraton Bengaluru...</td>\n      <td>No</td>\n      <td>No</td>\n      <td>3.6 /5</td>\n      <td>27</td>\n      <td>080 40301477</td>\n      <td>Whitefield</td>\n      <td>Bar</td>\n      <td>NaN</td>\n      <td>Continental</td>\n      <td>1,500</td>\n      <td>[('Rated 5.0', \"RATED\\n  Food and service are ...</td>\n      <td>[]</td>\n      <td>Pubs and bars</td>\n      <td>Whitefield</td>\n    </tr>\n    <tr>\n      <th>51713</th>\n      <td>https://www.zomato.com/bangalore/vinod-bar-and...</td>\n      <td>Number 10, Garudachar Palya, Mahadevapura, Whi...</td>\n      <td>Vinod Bar And Restaurant</td>\n      <td>No</td>\n      <td>No</td>\n      <td>NaN</td>\n      <td>0</td>\n      <td>+91 8197675843</td>\n      <td>Whitefield</td>\n      <td>Bar</td>\n      <td>NaN</td>\n      <td>Finger Food</td>\n      <td>600</td>\n      <td>[]</td>\n      <td>[]</td>\n      <td>Pubs and bars</td>\n      <td>Whitefield</td>\n    </tr>\n    <tr>\n      <th>51714</th>\n      <td>https://www.zomato.com/bangalore/plunge-sherat...</td>\n      <td>Sheraton Grand Bengaluru Whitefield Hotel &amp; Co...</td>\n      <td>Plunge - Sheraton Grand Bengaluru Whitefield H...</td>\n      <td>No</td>\n      <td>No</td>\n      <td>NaN</td>\n      <td>0</td>\n      <td>NaN</td>\n      <td>Whitefield</td>\n      <td>Bar</td>\n      <td>NaN</td>\n      <td>Finger Food</td>\n      <td>2,000</td>\n      <td>[]</td>\n      <td>[]</td>\n      <td>Pubs and bars</td>\n      <td>Whitefield</td>\n    </tr>\n    <tr>\n      <th>51715</th>\n      <td>https://www.zomato.com/bangalore/chime-sherato...</td>\n      <td>Sheraton Grand Bengaluru Whitefield Hotel &amp; Co...</td>\n      <td>Chime - Sheraton Grand Bengaluru Whitefield Ho...</td>\n      <td>No</td>\n      <td>Yes</td>\n      <td>4.3 /5</td>\n      <td>236</td>\n      <td>080 49652769</td>\n      <td>ITPL Main Road, Whitefield</td>\n      <td>Bar</td>\n      <td>Cocktails, Pizza, Buttermilk</td>\n      <td>Finger Food</td>\n      <td>2,500</td>\n      <td>[('Rated 4.0', 'RATED\\n  Nice and friendly pla...</td>\n      <td>[]</td>\n      <td>Pubs and bars</td>\n      <td>Whitefield</td>\n    </tr>\n    <tr>\n      <th>51716</th>\n      <td>https://www.zomato.com/bangalore/the-nest-the-...</td>\n      <td>ITPL Main Road, KIADB Export Promotion Industr...</td>\n      <td>The Nest - The Den Bengaluru</td>\n      <td>No</td>\n      <td>No</td>\n      <td>3.4 /5</td>\n      <td>13</td>\n      <td>+91 8071117272</td>\n      <td>ITPL Main Road, Whitefield</td>\n      <td>Bar, Casual Dining</td>\n      <td>NaN</td>\n      <td>Finger Food, North Indian, Continental</td>\n      <td>1,500</td>\n      <td>[('Rated 5.0', 'RATED\\n  Great ambience , look...</td>\n      <td>[]</td>\n      <td>Pubs and bars</td>\n      <td>Whitefield</td>\n    </tr>\n  </tbody>\n</table>\n<p>51717 rows × 17 columns</p>\n</div>"
          },
          "metadata": {}
        }
      ]
    },
    {
      "cell_type": "code",
      "source": [
        "df = pd.read_csv('/kaggle/input/zomato-bangalore-restaurants/zomato.csv')"
      ],
      "metadata": {
        "execution": {
          "iopub.status.busy": "2024-03-06T04:45:15.998647Z",
          "iopub.execute_input": "2024-03-06T04:45:15.999686Z",
          "iopub.status.idle": "2024-03-06T04:45:22.826899Z",
          "shell.execute_reply.started": "2024-03-06T04:45:15.999643Z",
          "shell.execute_reply": "2024-03-06T04:45:22.825688Z"
        },
        "trusted": true,
        "id": "QxRRFNQYHf95"
      },
      "execution_count": null,
      "outputs": []
    },
    {
      "cell_type": "code",
      "source": [
        "df.head()"
      ],
      "metadata": {
        "execution": {
          "iopub.status.busy": "2024-03-06T04:45:22.82842Z",
          "iopub.execute_input": "2024-03-06T04:45:22.82878Z",
          "iopub.status.idle": "2024-03-06T04:45:22.851963Z",
          "shell.execute_reply.started": "2024-03-06T04:45:22.82875Z",
          "shell.execute_reply": "2024-03-06T04:45:22.850589Z"
        },
        "trusted": true,
        "id": "6nSsL_-THf96",
        "outputId": "8bf8593e-3120-4bd6-f500-a60016aef559"
      },
      "execution_count": null,
      "outputs": [
        {
          "execution_count": 31,
          "output_type": "execute_result",
          "data": {
            "text/plain": "                                                 url  \\\n0  https://www.zomato.com/bangalore/jalsa-banasha...   \n1  https://www.zomato.com/bangalore/spice-elephan...   \n2  https://www.zomato.com/SanchurroBangalore?cont...   \n3  https://www.zomato.com/bangalore/addhuri-udupi...   \n4  https://www.zomato.com/bangalore/grand-village...   \n\n                                             address                   name  \\\n0  942, 21st Main Road, 2nd Stage, Banashankari, ...                  Jalsa   \n1  2nd Floor, 80 Feet Road, Near Big Bazaar, 6th ...         Spice Elephant   \n2  1112, Next to KIMS Medical College, 17th Cross...        San Churro Cafe   \n3  1st Floor, Annakuteera, 3rd Stage, Banashankar...  Addhuri Udupi Bhojana   \n4  10, 3rd Floor, Lakshmi Associates, Gandhi Baza...          Grand Village   \n\n  online_order book_table   rate  votes                             phone  \\\n0          Yes        Yes  4.1/5    775    080 42297555\\r\\n+91 9743772233   \n1          Yes         No  4.1/5    787                      080 41714161   \n2          Yes         No  3.8/5    918                    +91 9663487993   \n3           No         No  3.7/5     88                    +91 9620009302   \n4           No         No  3.8/5    166  +91 8026612447\\r\\n+91 9901210005   \n\n       location            rest_type  \\\n0  Banashankari        Casual Dining   \n1  Banashankari        Casual Dining   \n2  Banashankari  Cafe, Casual Dining   \n3  Banashankari          Quick Bites   \n4  Basavanagudi        Casual Dining   \n\n                                          dish_liked  \\\n0  Pasta, Lunch Buffet, Masala Papad, Paneer Laja...   \n1  Momos, Lunch Buffet, Chocolate Nirvana, Thai G...   \n2  Churros, Cannelloni, Minestrone Soup, Hot Choc...   \n3                                        Masala Dosa   \n4                                Panipuri, Gol Gappe   \n\n                         cuisines approx_cost(for two people)  \\\n0  North Indian, Mughlai, Chinese                         800   \n1     Chinese, North Indian, Thai                         800   \n2          Cafe, Mexican, Italian                         800   \n3      South Indian, North Indian                         300   \n4        North Indian, Rajasthani                         600   \n\n                                        reviews_list menu_item  \\\n0  [('Rated 4.0', 'RATED\\n  A beautiful place to ...        []   \n1  [('Rated 4.0', 'RATED\\n  Had been here for din...        []   \n2  [('Rated 3.0', \"RATED\\n  Ambience is not that ...        []   \n3  [('Rated 4.0', \"RATED\\n  Great food and proper...        []   \n4  [('Rated 4.0', 'RATED\\n  Very good restaurant ...        []   \n\n  listed_in(type) listed_in(city)  \n0          Buffet    Banashankari  \n1          Buffet    Banashankari  \n2          Buffet    Banashankari  \n3          Buffet    Banashankari  \n4          Buffet    Banashankari  ",
            "text/html": "<div>\n<style scoped>\n    .dataframe tbody tr th:only-of-type {\n        vertical-align: middle;\n    }\n\n    .dataframe tbody tr th {\n        vertical-align: top;\n    }\n\n    .dataframe thead th {\n        text-align: right;\n    }\n</style>\n<table border=\"1\" class=\"dataframe\">\n  <thead>\n    <tr style=\"text-align: right;\">\n      <th></th>\n      <th>url</th>\n      <th>address</th>\n      <th>name</th>\n      <th>online_order</th>\n      <th>book_table</th>\n      <th>rate</th>\n      <th>votes</th>\n      <th>phone</th>\n      <th>location</th>\n      <th>rest_type</th>\n      <th>dish_liked</th>\n      <th>cuisines</th>\n      <th>approx_cost(for two people)</th>\n      <th>reviews_list</th>\n      <th>menu_item</th>\n      <th>listed_in(type)</th>\n      <th>listed_in(city)</th>\n    </tr>\n  </thead>\n  <tbody>\n    <tr>\n      <th>0</th>\n      <td>https://www.zomato.com/bangalore/jalsa-banasha...</td>\n      <td>942, 21st Main Road, 2nd Stage, Banashankari, ...</td>\n      <td>Jalsa</td>\n      <td>Yes</td>\n      <td>Yes</td>\n      <td>4.1/5</td>\n      <td>775</td>\n      <td>080 42297555\\r\\n+91 9743772233</td>\n      <td>Banashankari</td>\n      <td>Casual Dining</td>\n      <td>Pasta, Lunch Buffet, Masala Papad, Paneer Laja...</td>\n      <td>North Indian, Mughlai, Chinese</td>\n      <td>800</td>\n      <td>[('Rated 4.0', 'RATED\\n  A beautiful place to ...</td>\n      <td>[]</td>\n      <td>Buffet</td>\n      <td>Banashankari</td>\n    </tr>\n    <tr>\n      <th>1</th>\n      <td>https://www.zomato.com/bangalore/spice-elephan...</td>\n      <td>2nd Floor, 80 Feet Road, Near Big Bazaar, 6th ...</td>\n      <td>Spice Elephant</td>\n      <td>Yes</td>\n      <td>No</td>\n      <td>4.1/5</td>\n      <td>787</td>\n      <td>080 41714161</td>\n      <td>Banashankari</td>\n      <td>Casual Dining</td>\n      <td>Momos, Lunch Buffet, Chocolate Nirvana, Thai G...</td>\n      <td>Chinese, North Indian, Thai</td>\n      <td>800</td>\n      <td>[('Rated 4.0', 'RATED\\n  Had been here for din...</td>\n      <td>[]</td>\n      <td>Buffet</td>\n      <td>Banashankari</td>\n    </tr>\n    <tr>\n      <th>2</th>\n      <td>https://www.zomato.com/SanchurroBangalore?cont...</td>\n      <td>1112, Next to KIMS Medical College, 17th Cross...</td>\n      <td>San Churro Cafe</td>\n      <td>Yes</td>\n      <td>No</td>\n      <td>3.8/5</td>\n      <td>918</td>\n      <td>+91 9663487993</td>\n      <td>Banashankari</td>\n      <td>Cafe, Casual Dining</td>\n      <td>Churros, Cannelloni, Minestrone Soup, Hot Choc...</td>\n      <td>Cafe, Mexican, Italian</td>\n      <td>800</td>\n      <td>[('Rated 3.0', \"RATED\\n  Ambience is not that ...</td>\n      <td>[]</td>\n      <td>Buffet</td>\n      <td>Banashankari</td>\n    </tr>\n    <tr>\n      <th>3</th>\n      <td>https://www.zomato.com/bangalore/addhuri-udupi...</td>\n      <td>1st Floor, Annakuteera, 3rd Stage, Banashankar...</td>\n      <td>Addhuri Udupi Bhojana</td>\n      <td>No</td>\n      <td>No</td>\n      <td>3.7/5</td>\n      <td>88</td>\n      <td>+91 9620009302</td>\n      <td>Banashankari</td>\n      <td>Quick Bites</td>\n      <td>Masala Dosa</td>\n      <td>South Indian, North Indian</td>\n      <td>300</td>\n      <td>[('Rated 4.0', \"RATED\\n  Great food and proper...</td>\n      <td>[]</td>\n      <td>Buffet</td>\n      <td>Banashankari</td>\n    </tr>\n    <tr>\n      <th>4</th>\n      <td>https://www.zomato.com/bangalore/grand-village...</td>\n      <td>10, 3rd Floor, Lakshmi Associates, Gandhi Baza...</td>\n      <td>Grand Village</td>\n      <td>No</td>\n      <td>No</td>\n      <td>3.8/5</td>\n      <td>166</td>\n      <td>+91 8026612447\\r\\n+91 9901210005</td>\n      <td>Basavanagudi</td>\n      <td>Casual Dining</td>\n      <td>Panipuri, Gol Gappe</td>\n      <td>North Indian, Rajasthani</td>\n      <td>600</td>\n      <td>[('Rated 4.0', 'RATED\\n  Very good restaurant ...</td>\n      <td>[]</td>\n      <td>Buffet</td>\n      <td>Banashankari</td>\n    </tr>\n  </tbody>\n</table>\n</div>"
          },
          "metadata": {}
        }
      ]
    },
    {
      "cell_type": "code",
      "source": [
        "df.columns"
      ],
      "metadata": {
        "execution": {
          "iopub.status.busy": "2024-03-06T04:45:22.856443Z",
          "iopub.execute_input": "2024-03-06T04:45:22.857138Z",
          "iopub.status.idle": "2024-03-06T04:45:22.866997Z",
          "shell.execute_reply.started": "2024-03-06T04:45:22.857093Z",
          "shell.execute_reply": "2024-03-06T04:45:22.865708Z"
        },
        "trusted": true,
        "id": "ZW6cBVs1Hf97",
        "outputId": "1c212f2e-af92-4cc2-8e83-0cb219690483"
      },
      "execution_count": null,
      "outputs": [
        {
          "execution_count": 32,
          "output_type": "execute_result",
          "data": {
            "text/plain": "Index(['url', 'address', 'name', 'online_order', 'book_table', 'rate', 'votes',\n       'phone', 'location', 'rest_type', 'dish_liked', 'cuisines',\n       'approx_cost(for two people)', 'reviews_list', 'menu_item',\n       'listed_in(type)', 'listed_in(city)'],\n      dtype='object')"
          },
          "metadata": {}
        }
      ]
    },
    {
      "cell_type": "code",
      "source": [
        "df=df.drop(['url', 'address', 'menu_item','reviews_list', 'dish_liked', 'listed_in(city)'], axis=1)\n",
        "df.head()"
      ],
      "metadata": {
        "execution": {
          "iopub.status.busy": "2024-03-06T04:45:22.868509Z",
          "iopub.execute_input": "2024-03-06T04:45:22.868929Z",
          "iopub.status.idle": "2024-03-06T04:45:22.895707Z",
          "shell.execute_reply.started": "2024-03-06T04:45:22.868894Z",
          "shell.execute_reply": "2024-03-06T04:45:22.894392Z"
        },
        "trusted": true,
        "id": "obA7OjRIHf97",
        "outputId": "baefae7d-6e5c-4fc8-93eb-e272afd410f9"
      },
      "execution_count": null,
      "outputs": [
        {
          "execution_count": 33,
          "output_type": "execute_result",
          "data": {
            "text/plain": "                    name online_order book_table   rate  votes  \\\n0                  Jalsa          Yes        Yes  4.1/5    775   \n1         Spice Elephant          Yes         No  4.1/5    787   \n2        San Churro Cafe          Yes         No  3.8/5    918   \n3  Addhuri Udupi Bhojana           No         No  3.7/5     88   \n4          Grand Village           No         No  3.8/5    166   \n\n                              phone      location            rest_type  \\\n0    080 42297555\\r\\n+91 9743772233  Banashankari        Casual Dining   \n1                      080 41714161  Banashankari        Casual Dining   \n2                    +91 9663487993  Banashankari  Cafe, Casual Dining   \n3                    +91 9620009302  Banashankari          Quick Bites   \n4  +91 8026612447\\r\\n+91 9901210005  Basavanagudi        Casual Dining   \n\n                         cuisines approx_cost(for two people) listed_in(type)  \n0  North Indian, Mughlai, Chinese                         800          Buffet  \n1     Chinese, North Indian, Thai                         800          Buffet  \n2          Cafe, Mexican, Italian                         800          Buffet  \n3      South Indian, North Indian                         300          Buffet  \n4        North Indian, Rajasthani                         600          Buffet  ",
            "text/html": "<div>\n<style scoped>\n    .dataframe tbody tr th:only-of-type {\n        vertical-align: middle;\n    }\n\n    .dataframe tbody tr th {\n        vertical-align: top;\n    }\n\n    .dataframe thead th {\n        text-align: right;\n    }\n</style>\n<table border=\"1\" class=\"dataframe\">\n  <thead>\n    <tr style=\"text-align: right;\">\n      <th></th>\n      <th>name</th>\n      <th>online_order</th>\n      <th>book_table</th>\n      <th>rate</th>\n      <th>votes</th>\n      <th>phone</th>\n      <th>location</th>\n      <th>rest_type</th>\n      <th>cuisines</th>\n      <th>approx_cost(for two people)</th>\n      <th>listed_in(type)</th>\n    </tr>\n  </thead>\n  <tbody>\n    <tr>\n      <th>0</th>\n      <td>Jalsa</td>\n      <td>Yes</td>\n      <td>Yes</td>\n      <td>4.1/5</td>\n      <td>775</td>\n      <td>080 42297555\\r\\n+91 9743772233</td>\n      <td>Banashankari</td>\n      <td>Casual Dining</td>\n      <td>North Indian, Mughlai, Chinese</td>\n      <td>800</td>\n      <td>Buffet</td>\n    </tr>\n    <tr>\n      <th>1</th>\n      <td>Spice Elephant</td>\n      <td>Yes</td>\n      <td>No</td>\n      <td>4.1/5</td>\n      <td>787</td>\n      <td>080 41714161</td>\n      <td>Banashankari</td>\n      <td>Casual Dining</td>\n      <td>Chinese, North Indian, Thai</td>\n      <td>800</td>\n      <td>Buffet</td>\n    </tr>\n    <tr>\n      <th>2</th>\n      <td>San Churro Cafe</td>\n      <td>Yes</td>\n      <td>No</td>\n      <td>3.8/5</td>\n      <td>918</td>\n      <td>+91 9663487993</td>\n      <td>Banashankari</td>\n      <td>Cafe, Casual Dining</td>\n      <td>Cafe, Mexican, Italian</td>\n      <td>800</td>\n      <td>Buffet</td>\n    </tr>\n    <tr>\n      <th>3</th>\n      <td>Addhuri Udupi Bhojana</td>\n      <td>No</td>\n      <td>No</td>\n      <td>3.7/5</td>\n      <td>88</td>\n      <td>+91 9620009302</td>\n      <td>Banashankari</td>\n      <td>Quick Bites</td>\n      <td>South Indian, North Indian</td>\n      <td>300</td>\n      <td>Buffet</td>\n    </tr>\n    <tr>\n      <th>4</th>\n      <td>Grand Village</td>\n      <td>No</td>\n      <td>No</td>\n      <td>3.8/5</td>\n      <td>166</td>\n      <td>+91 8026612447\\r\\n+91 9901210005</td>\n      <td>Basavanagudi</td>\n      <td>Casual Dining</td>\n      <td>North Indian, Rajasthani</td>\n      <td>600</td>\n      <td>Buffet</td>\n    </tr>\n  </tbody>\n</table>\n</div>"
          },
          "metadata": {}
        }
      ]
    },
    {
      "cell_type": "code",
      "source": [
        "df.info()"
      ],
      "metadata": {
        "execution": {
          "iopub.status.busy": "2024-03-06T04:45:22.897429Z",
          "iopub.execute_input": "2024-03-06T04:45:22.897866Z",
          "iopub.status.idle": "2024-03-06T04:45:22.969952Z",
          "shell.execute_reply.started": "2024-03-06T04:45:22.897832Z",
          "shell.execute_reply": "2024-03-06T04:45:22.968277Z"
        },
        "trusted": true,
        "id": "4wMPafJ1Hf98",
        "outputId": "7ba68496-130d-40bb-8c3f-1410fefb4f0b"
      },
      "execution_count": null,
      "outputs": [
        {
          "name": "stdout",
          "text": "<class 'pandas.core.frame.DataFrame'>\nRangeIndex: 51717 entries, 0 to 51716\nData columns (total 11 columns):\n #   Column                       Non-Null Count  Dtype \n---  ------                       --------------  ----- \n 0   name                         51717 non-null  object\n 1   online_order                 51717 non-null  object\n 2   book_table                   51717 non-null  object\n 3   rate                         43942 non-null  object\n 4   votes                        51717 non-null  int64 \n 5   phone                        50509 non-null  object\n 6   location                     51696 non-null  object\n 7   rest_type                    51490 non-null  object\n 8   cuisines                     51672 non-null  object\n 9   approx_cost(for two people)  51371 non-null  object\n 10  listed_in(type)              51717 non-null  object\ndtypes: int64(1), object(10)\nmemory usage: 4.3+ MB\n",
          "output_type": "stream"
        }
      ]
    },
    {
      "cell_type": "code",
      "source": [
        "df.drop_duplicates(inplace = True)\n",
        "df.head()"
      ],
      "metadata": {
        "execution": {
          "iopub.status.busy": "2024-03-06T04:45:22.971841Z",
          "iopub.execute_input": "2024-03-06T04:45:22.972215Z",
          "iopub.status.idle": "2024-03-06T04:45:23.087122Z",
          "shell.execute_reply.started": "2024-03-06T04:45:22.972185Z",
          "shell.execute_reply": "2024-03-06T04:45:23.085831Z"
        },
        "trusted": true,
        "id": "5cTswDBZHf99",
        "outputId": "565b4c9a-e9a1-4d08-8bf9-35196f959b31"
      },
      "execution_count": null,
      "outputs": [
        {
          "execution_count": 35,
          "output_type": "execute_result",
          "data": {
            "text/plain": "                    name online_order book_table   rate  votes  \\\n0                  Jalsa          Yes        Yes  4.1/5    775   \n1         Spice Elephant          Yes         No  4.1/5    787   \n2        San Churro Cafe          Yes         No  3.8/5    918   \n3  Addhuri Udupi Bhojana           No         No  3.7/5     88   \n4          Grand Village           No         No  3.8/5    166   \n\n                              phone      location            rest_type  \\\n0    080 42297555\\r\\n+91 9743772233  Banashankari        Casual Dining   \n1                      080 41714161  Banashankari        Casual Dining   \n2                    +91 9663487993  Banashankari  Cafe, Casual Dining   \n3                    +91 9620009302  Banashankari          Quick Bites   \n4  +91 8026612447\\r\\n+91 9901210005  Basavanagudi        Casual Dining   \n\n                         cuisines approx_cost(for two people) listed_in(type)  \n0  North Indian, Mughlai, Chinese                         800          Buffet  \n1     Chinese, North Indian, Thai                         800          Buffet  \n2          Cafe, Mexican, Italian                         800          Buffet  \n3      South Indian, North Indian                         300          Buffet  \n4        North Indian, Rajasthani                         600          Buffet  ",
            "text/html": "<div>\n<style scoped>\n    .dataframe tbody tr th:only-of-type {\n        vertical-align: middle;\n    }\n\n    .dataframe tbody tr th {\n        vertical-align: top;\n    }\n\n    .dataframe thead th {\n        text-align: right;\n    }\n</style>\n<table border=\"1\" class=\"dataframe\">\n  <thead>\n    <tr style=\"text-align: right;\">\n      <th></th>\n      <th>name</th>\n      <th>online_order</th>\n      <th>book_table</th>\n      <th>rate</th>\n      <th>votes</th>\n      <th>phone</th>\n      <th>location</th>\n      <th>rest_type</th>\n      <th>cuisines</th>\n      <th>approx_cost(for two people)</th>\n      <th>listed_in(type)</th>\n    </tr>\n  </thead>\n  <tbody>\n    <tr>\n      <th>0</th>\n      <td>Jalsa</td>\n      <td>Yes</td>\n      <td>Yes</td>\n      <td>4.1/5</td>\n      <td>775</td>\n      <td>080 42297555\\r\\n+91 9743772233</td>\n      <td>Banashankari</td>\n      <td>Casual Dining</td>\n      <td>North Indian, Mughlai, Chinese</td>\n      <td>800</td>\n      <td>Buffet</td>\n    </tr>\n    <tr>\n      <th>1</th>\n      <td>Spice Elephant</td>\n      <td>Yes</td>\n      <td>No</td>\n      <td>4.1/5</td>\n      <td>787</td>\n      <td>080 41714161</td>\n      <td>Banashankari</td>\n      <td>Casual Dining</td>\n      <td>Chinese, North Indian, Thai</td>\n      <td>800</td>\n      <td>Buffet</td>\n    </tr>\n    <tr>\n      <th>2</th>\n      <td>San Churro Cafe</td>\n      <td>Yes</td>\n      <td>No</td>\n      <td>3.8/5</td>\n      <td>918</td>\n      <td>+91 9663487993</td>\n      <td>Banashankari</td>\n      <td>Cafe, Casual Dining</td>\n      <td>Cafe, Mexican, Italian</td>\n      <td>800</td>\n      <td>Buffet</td>\n    </tr>\n    <tr>\n      <th>3</th>\n      <td>Addhuri Udupi Bhojana</td>\n      <td>No</td>\n      <td>No</td>\n      <td>3.7/5</td>\n      <td>88</td>\n      <td>+91 9620009302</td>\n      <td>Banashankari</td>\n      <td>Quick Bites</td>\n      <td>South Indian, North Indian</td>\n      <td>300</td>\n      <td>Buffet</td>\n    </tr>\n    <tr>\n      <th>4</th>\n      <td>Grand Village</td>\n      <td>No</td>\n      <td>No</td>\n      <td>3.8/5</td>\n      <td>166</td>\n      <td>+91 8026612447\\r\\n+91 9901210005</td>\n      <td>Basavanagudi</td>\n      <td>Casual Dining</td>\n      <td>North Indian, Rajasthani</td>\n      <td>600</td>\n      <td>Buffet</td>\n    </tr>\n  </tbody>\n</table>\n</div>"
          },
          "metadata": {}
        }
      ]
    },
    {
      "cell_type": "code",
      "source": [
        "df['rate'].unique()"
      ],
      "metadata": {
        "execution": {
          "iopub.status.busy": "2024-03-06T04:45:23.088897Z",
          "iopub.execute_input": "2024-03-06T04:45:23.089307Z",
          "iopub.status.idle": "2024-03-06T04:45:23.101613Z",
          "shell.execute_reply.started": "2024-03-06T04:45:23.089274Z",
          "shell.execute_reply": "2024-03-06T04:45:23.100106Z"
        },
        "trusted": true,
        "id": "C9kFKtVVHf9-",
        "outputId": "f95c4492-0dc4-4cad-dbd9-1e8c0caf7a51"
      },
      "execution_count": null,
      "outputs": [
        {
          "execution_count": 36,
          "output_type": "execute_result",
          "data": {
            "text/plain": "array(['4.1/5', '3.8/5', '3.7/5', '3.6/5', '4.6/5', '4.0/5', '4.2/5',\n       '3.9/5', '3.1/5', '3.0/5', '3.2/5', '3.3/5', '2.8/5', '4.4/5',\n       '4.3/5', 'NEW', '2.9/5', '3.5/5', nan, '2.6/5', '3.8 /5', '3.4/5',\n       '4.5/5', '2.5/5', '2.7/5', '4.7/5', '2.4/5', '2.2/5', '2.3/5',\n       '3.4 /5', '-', '3.6 /5', '4.8/5', '3.9 /5', '4.2 /5', '4.0 /5',\n       '4.1 /5', '3.7 /5', '3.1 /5', '2.9 /5', '3.3 /5', '2.8 /5',\n       '3.5 /5', '2.7 /5', '2.5 /5', '3.2 /5', '2.6 /5', '4.5 /5',\n       '4.3 /5', '4.4 /5', '4.9/5', '2.1/5', '2.0/5', '1.8/5', '4.6 /5',\n       '4.9 /5', '3.0 /5', '4.8 /5', '2.3 /5', '4.7 /5', '2.4 /5',\n       '2.1 /5', '2.2 /5', '2.0 /5', '1.8 /5'], dtype=object)"
          },
          "metadata": {}
        }
      ]
    },
    {
      "cell_type": "code",
      "source": [
        "def handlerate(value):\n",
        "    if(value=='NEW' or value=='-'):\n",
        "        return np.nan\n",
        "    else:\n",
        "        value = str(value).split('/')\n",
        "        value = value[0]\n",
        "        return float(value)\n",
        "df['rate'] = df['rate'].apply(handlerate)\n",
        "df['rate'].head()"
      ],
      "metadata": {
        "execution": {
          "iopub.status.busy": "2024-03-06T04:45:23.102909Z",
          "iopub.execute_input": "2024-03-06T04:45:23.103292Z",
          "iopub.status.idle": "2024-03-06T04:45:23.165312Z",
          "shell.execute_reply.started": "2024-03-06T04:45:23.103258Z",
          "shell.execute_reply": "2024-03-06T04:45:23.163842Z"
        },
        "trusted": true,
        "id": "YDI2gN6RHf9-",
        "outputId": "864ed960-1a94-42c7-ea90-acca92b3e824"
      },
      "execution_count": null,
      "outputs": [
        {
          "execution_count": 37,
          "output_type": "execute_result",
          "data": {
            "text/plain": "0    4.1\n1    4.1\n2    3.8\n3    3.7\n4    3.8\nName: rate, dtype: float64"
          },
          "metadata": {}
        }
      ]
    },
    {
      "cell_type": "code",
      "source": [
        "df['rate'].fillna(df['rate'].mean(), inplace = True)\n",
        "df['rate'].isnull().sum()"
      ],
      "metadata": {
        "execution": {
          "iopub.status.busy": "2024-03-06T04:45:23.166942Z",
          "iopub.execute_input": "2024-03-06T04:45:23.168155Z",
          "iopub.status.idle": "2024-03-06T04:45:23.180537Z",
          "shell.execute_reply.started": "2024-03-06T04:45:23.168116Z",
          "shell.execute_reply": "2024-03-06T04:45:23.179195Z"
        },
        "trusted": true,
        "id": "kgRUaKBeHf9_",
        "outputId": "e300c6bc-3946-4773-a521-079f9f4fde76"
      },
      "execution_count": null,
      "outputs": [
        {
          "name": "stderr",
          "text": "/tmp/ipykernel_33/1687008678.py:1: FutureWarning: A value is trying to be set on a copy of a DataFrame or Series through chained assignment using an inplace method.\nThe behavior will change in pandas 3.0. This inplace method will never work because the intermediate object on which we are setting values always behaves as a copy.\n\nFor example, when doing 'df[col].method(value, inplace=True)', try using 'df.method({col: value}, inplace=True)' or df[col] = df[col].method(value) instead, to perform the operation inplace on the original object.\n\n\n  df['rate'].fillna(df['rate'].mean(), inplace = True)\n",
          "output_type": "stream"
        },
        {
          "execution_count": 38,
          "output_type": "execute_result",
          "data": {
            "text/plain": "0"
          },
          "metadata": {}
        }
      ]
    },
    {
      "cell_type": "code",
      "source": [
        "df.head()"
      ],
      "metadata": {
        "execution": {
          "iopub.status.busy": "2024-03-06T04:45:23.18237Z",
          "iopub.execute_input": "2024-03-06T04:45:23.182837Z",
          "iopub.status.idle": "2024-03-06T04:45:23.205205Z",
          "shell.execute_reply.started": "2024-03-06T04:45:23.182803Z",
          "shell.execute_reply": "2024-03-06T04:45:23.203907Z"
        },
        "trusted": true,
        "id": "tZ4Ev8N_Hf9_",
        "outputId": "7ab022f2-e2ba-41f2-c597-759802965fdd"
      },
      "execution_count": null,
      "outputs": [
        {
          "execution_count": 39,
          "output_type": "execute_result",
          "data": {
            "text/plain": "                    name online_order book_table  rate  votes  \\\n0                  Jalsa          Yes        Yes   4.1    775   \n1         Spice Elephant          Yes         No   4.1    787   \n2        San Churro Cafe          Yes         No   3.8    918   \n3  Addhuri Udupi Bhojana           No         No   3.7     88   \n4          Grand Village           No         No   3.8    166   \n\n                              phone      location            rest_type  \\\n0    080 42297555\\r\\n+91 9743772233  Banashankari        Casual Dining   \n1                      080 41714161  Banashankari        Casual Dining   \n2                    +91 9663487993  Banashankari  Cafe, Casual Dining   \n3                    +91 9620009302  Banashankari          Quick Bites   \n4  +91 8026612447\\r\\n+91 9901210005  Basavanagudi        Casual Dining   \n\n                         cuisines approx_cost(for two people) listed_in(type)  \n0  North Indian, Mughlai, Chinese                         800          Buffet  \n1     Chinese, North Indian, Thai                         800          Buffet  \n2          Cafe, Mexican, Italian                         800          Buffet  \n3      South Indian, North Indian                         300          Buffet  \n4        North Indian, Rajasthani                         600          Buffet  ",
            "text/html": "<div>\n<style scoped>\n    .dataframe tbody tr th:only-of-type {\n        vertical-align: middle;\n    }\n\n    .dataframe tbody tr th {\n        vertical-align: top;\n    }\n\n    .dataframe thead th {\n        text-align: right;\n    }\n</style>\n<table border=\"1\" class=\"dataframe\">\n  <thead>\n    <tr style=\"text-align: right;\">\n      <th></th>\n      <th>name</th>\n      <th>online_order</th>\n      <th>book_table</th>\n      <th>rate</th>\n      <th>votes</th>\n      <th>phone</th>\n      <th>location</th>\n      <th>rest_type</th>\n      <th>cuisines</th>\n      <th>approx_cost(for two people)</th>\n      <th>listed_in(type)</th>\n    </tr>\n  </thead>\n  <tbody>\n    <tr>\n      <th>0</th>\n      <td>Jalsa</td>\n      <td>Yes</td>\n      <td>Yes</td>\n      <td>4.1</td>\n      <td>775</td>\n      <td>080 42297555\\r\\n+91 9743772233</td>\n      <td>Banashankari</td>\n      <td>Casual Dining</td>\n      <td>North Indian, Mughlai, Chinese</td>\n      <td>800</td>\n      <td>Buffet</td>\n    </tr>\n    <tr>\n      <th>1</th>\n      <td>Spice Elephant</td>\n      <td>Yes</td>\n      <td>No</td>\n      <td>4.1</td>\n      <td>787</td>\n      <td>080 41714161</td>\n      <td>Banashankari</td>\n      <td>Casual Dining</td>\n      <td>Chinese, North Indian, Thai</td>\n      <td>800</td>\n      <td>Buffet</td>\n    </tr>\n    <tr>\n      <th>2</th>\n      <td>San Churro Cafe</td>\n      <td>Yes</td>\n      <td>No</td>\n      <td>3.8</td>\n      <td>918</td>\n      <td>+91 9663487993</td>\n      <td>Banashankari</td>\n      <td>Cafe, Casual Dining</td>\n      <td>Cafe, Mexican, Italian</td>\n      <td>800</td>\n      <td>Buffet</td>\n    </tr>\n    <tr>\n      <th>3</th>\n      <td>Addhuri Udupi Bhojana</td>\n      <td>No</td>\n      <td>No</td>\n      <td>3.7</td>\n      <td>88</td>\n      <td>+91 9620009302</td>\n      <td>Banashankari</td>\n      <td>Quick Bites</td>\n      <td>South Indian, North Indian</td>\n      <td>300</td>\n      <td>Buffet</td>\n    </tr>\n    <tr>\n      <th>4</th>\n      <td>Grand Village</td>\n      <td>No</td>\n      <td>No</td>\n      <td>3.8</td>\n      <td>166</td>\n      <td>+91 8026612447\\r\\n+91 9901210005</td>\n      <td>Basavanagudi</td>\n      <td>Casual Dining</td>\n      <td>North Indian, Rajasthani</td>\n      <td>600</td>\n      <td>Buffet</td>\n    </tr>\n  </tbody>\n</table>\n</div>"
          },
          "metadata": {}
        }
      ]
    },
    {
      "cell_type": "code",
      "source": [
        "df.info()"
      ],
      "metadata": {
        "execution": {
          "iopub.status.busy": "2024-03-06T04:45:23.20675Z",
          "iopub.execute_input": "2024-03-06T04:45:23.207418Z",
          "iopub.status.idle": "2024-03-06T04:45:23.264307Z",
          "shell.execute_reply.started": "2024-03-06T04:45:23.20738Z",
          "shell.execute_reply": "2024-03-06T04:45:23.262423Z"
        },
        "trusted": true,
        "id": "EiZid8tiHf9_",
        "outputId": "2d91d325-43f7-4a88-f6ee-93fbf215ce39"
      },
      "execution_count": null,
      "outputs": [
        {
          "name": "stdout",
          "text": "<class 'pandas.core.frame.DataFrame'>\nIndex: 37145 entries, 0 to 51716\nData columns (total 11 columns):\n #   Column                       Non-Null Count  Dtype  \n---  ------                       --------------  -----  \n 0   name                         37145 non-null  object \n 1   online_order                 37145 non-null  object \n 2   book_table                   37145 non-null  object \n 3   rate                         37145 non-null  float64\n 4   votes                        37145 non-null  int64  \n 5   phone                        36388 non-null  object \n 6   location                     37131 non-null  object \n 7   rest_type                    36982 non-null  object \n 8   cuisines                     37112 non-null  object \n 9   approx_cost(for two people)  36924 non-null  object \n 10  listed_in(type)              37145 non-null  object \ndtypes: float64(1), int64(1), object(9)\nmemory usage: 3.4+ MB\n",
          "output_type": "stream"
        }
      ]
    },
    {
      "cell_type": "code",
      "source": [
        "df.dropna(inplace = True)\n",
        "df.head()"
      ],
      "metadata": {
        "execution": {
          "iopub.status.busy": "2024-03-06T04:45:23.271124Z",
          "iopub.execute_input": "2024-03-06T04:45:23.271642Z",
          "iopub.status.idle": "2024-03-06T04:45:23.33878Z",
          "shell.execute_reply.started": "2024-03-06T04:45:23.271605Z",
          "shell.execute_reply": "2024-03-06T04:45:23.337424Z"
        },
        "trusted": true,
        "id": "lEJrKO6bHf-A",
        "outputId": "7b157e69-420a-471d-e439-ba4468dfade5"
      },
      "execution_count": null,
      "outputs": [
        {
          "execution_count": 41,
          "output_type": "execute_result",
          "data": {
            "text/plain": "                    name online_order book_table  rate  votes  \\\n0                  Jalsa          Yes        Yes   4.1    775   \n1         Spice Elephant          Yes         No   4.1    787   \n2        San Churro Cafe          Yes         No   3.8    918   \n3  Addhuri Udupi Bhojana           No         No   3.7     88   \n4          Grand Village           No         No   3.8    166   \n\n                              phone      location            rest_type  \\\n0    080 42297555\\r\\n+91 9743772233  Banashankari        Casual Dining   \n1                      080 41714161  Banashankari        Casual Dining   \n2                    +91 9663487993  Banashankari  Cafe, Casual Dining   \n3                    +91 9620009302  Banashankari          Quick Bites   \n4  +91 8026612447\\r\\n+91 9901210005  Basavanagudi        Casual Dining   \n\n                         cuisines approx_cost(for two people) listed_in(type)  \n0  North Indian, Mughlai, Chinese                         800          Buffet  \n1     Chinese, North Indian, Thai                         800          Buffet  \n2          Cafe, Mexican, Italian                         800          Buffet  \n3      South Indian, North Indian                         300          Buffet  \n4        North Indian, Rajasthani                         600          Buffet  ",
            "text/html": "<div>\n<style scoped>\n    .dataframe tbody tr th:only-of-type {\n        vertical-align: middle;\n    }\n\n    .dataframe tbody tr th {\n        vertical-align: top;\n    }\n\n    .dataframe thead th {\n        text-align: right;\n    }\n</style>\n<table border=\"1\" class=\"dataframe\">\n  <thead>\n    <tr style=\"text-align: right;\">\n      <th></th>\n      <th>name</th>\n      <th>online_order</th>\n      <th>book_table</th>\n      <th>rate</th>\n      <th>votes</th>\n      <th>phone</th>\n      <th>location</th>\n      <th>rest_type</th>\n      <th>cuisines</th>\n      <th>approx_cost(for two people)</th>\n      <th>listed_in(type)</th>\n    </tr>\n  </thead>\n  <tbody>\n    <tr>\n      <th>0</th>\n      <td>Jalsa</td>\n      <td>Yes</td>\n      <td>Yes</td>\n      <td>4.1</td>\n      <td>775</td>\n      <td>080 42297555\\r\\n+91 9743772233</td>\n      <td>Banashankari</td>\n      <td>Casual Dining</td>\n      <td>North Indian, Mughlai, Chinese</td>\n      <td>800</td>\n      <td>Buffet</td>\n    </tr>\n    <tr>\n      <th>1</th>\n      <td>Spice Elephant</td>\n      <td>Yes</td>\n      <td>No</td>\n      <td>4.1</td>\n      <td>787</td>\n      <td>080 41714161</td>\n      <td>Banashankari</td>\n      <td>Casual Dining</td>\n      <td>Chinese, North Indian, Thai</td>\n      <td>800</td>\n      <td>Buffet</td>\n    </tr>\n    <tr>\n      <th>2</th>\n      <td>San Churro Cafe</td>\n      <td>Yes</td>\n      <td>No</td>\n      <td>3.8</td>\n      <td>918</td>\n      <td>+91 9663487993</td>\n      <td>Banashankari</td>\n      <td>Cafe, Casual Dining</td>\n      <td>Cafe, Mexican, Italian</td>\n      <td>800</td>\n      <td>Buffet</td>\n    </tr>\n    <tr>\n      <th>3</th>\n      <td>Addhuri Udupi Bhojana</td>\n      <td>No</td>\n      <td>No</td>\n      <td>3.7</td>\n      <td>88</td>\n      <td>+91 9620009302</td>\n      <td>Banashankari</td>\n      <td>Quick Bites</td>\n      <td>South Indian, North Indian</td>\n      <td>300</td>\n      <td>Buffet</td>\n    </tr>\n    <tr>\n      <th>4</th>\n      <td>Grand Village</td>\n      <td>No</td>\n      <td>No</td>\n      <td>3.8</td>\n      <td>166</td>\n      <td>+91 8026612447\\r\\n+91 9901210005</td>\n      <td>Basavanagudi</td>\n      <td>Casual Dining</td>\n      <td>North Indian, Rajasthani</td>\n      <td>600</td>\n      <td>Buffet</td>\n    </tr>\n  </tbody>\n</table>\n</div>"
          },
          "metadata": {}
        }
      ]
    },
    {
      "cell_type": "code",
      "source": [
        "df.info()"
      ],
      "metadata": {
        "execution": {
          "iopub.status.busy": "2024-03-06T04:45:23.340049Z",
          "iopub.execute_input": "2024-03-06T04:45:23.340587Z",
          "iopub.status.idle": "2024-03-06T04:45:23.392058Z",
          "shell.execute_reply.started": "2024-03-06T04:45:23.340549Z",
          "shell.execute_reply": "2024-03-06T04:45:23.390252Z"
        },
        "trusted": true,
        "id": "WnoFmuctHf-A",
        "outputId": "4d64062f-f534-4b44-c6b2-14f6db552a95"
      },
      "execution_count": null,
      "outputs": [
        {
          "name": "stdout",
          "text": "<class 'pandas.core.frame.DataFrame'>\nIndex: 36219 entries, 0 to 51716\nData columns (total 11 columns):\n #   Column                       Non-Null Count  Dtype  \n---  ------                       --------------  -----  \n 0   name                         36219 non-null  object \n 1   online_order                 36219 non-null  object \n 2   book_table                   36219 non-null  object \n 3   rate                         36219 non-null  float64\n 4   votes                        36219 non-null  int64  \n 5   phone                        36219 non-null  object \n 6   location                     36219 non-null  object \n 7   rest_type                    36219 non-null  object \n 8   cuisines                     36219 non-null  object \n 9   approx_cost(for two people)  36219 non-null  object \n 10  listed_in(type)              36219 non-null  object \ndtypes: float64(1), int64(1), object(9)\nmemory usage: 3.3+ MB\n",
          "output_type": "stream"
        }
      ]
    },
    {
      "cell_type": "code",
      "source": [
        "df.rename(columns ={'approx_cost(for two people)': 'Cost2plates', 'listed_in(type)': 'Type'}, inplace= True)\n",
        "df.head()"
      ],
      "metadata": {
        "execution": {
          "iopub.status.busy": "2024-03-06T04:45:23.394463Z",
          "iopub.execute_input": "2024-03-06T04:45:23.394817Z",
          "iopub.status.idle": "2024-03-06T04:45:23.414258Z",
          "shell.execute_reply.started": "2024-03-06T04:45:23.394788Z",
          "shell.execute_reply": "2024-03-06T04:45:23.413309Z"
        },
        "trusted": true,
        "id": "g138b_lFHf-A",
        "outputId": "0807d29c-9ae9-417b-c4e7-b9898790389c"
      },
      "execution_count": null,
      "outputs": [
        {
          "execution_count": 43,
          "output_type": "execute_result",
          "data": {
            "text/plain": "                    name online_order book_table  rate  votes  \\\n0                  Jalsa          Yes        Yes   4.1    775   \n1         Spice Elephant          Yes         No   4.1    787   \n2        San Churro Cafe          Yes         No   3.8    918   \n3  Addhuri Udupi Bhojana           No         No   3.7     88   \n4          Grand Village           No         No   3.8    166   \n\n                              phone      location            rest_type  \\\n0    080 42297555\\r\\n+91 9743772233  Banashankari        Casual Dining   \n1                      080 41714161  Banashankari        Casual Dining   \n2                    +91 9663487993  Banashankari  Cafe, Casual Dining   \n3                    +91 9620009302  Banashankari          Quick Bites   \n4  +91 8026612447\\r\\n+91 9901210005  Basavanagudi        Casual Dining   \n\n                         cuisines Cost2plates    Type  \n0  North Indian, Mughlai, Chinese         800  Buffet  \n1     Chinese, North Indian, Thai         800  Buffet  \n2          Cafe, Mexican, Italian         800  Buffet  \n3      South Indian, North Indian         300  Buffet  \n4        North Indian, Rajasthani         600  Buffet  ",
            "text/html": "<div>\n<style scoped>\n    .dataframe tbody tr th:only-of-type {\n        vertical-align: middle;\n    }\n\n    .dataframe tbody tr th {\n        vertical-align: top;\n    }\n\n    .dataframe thead th {\n        text-align: right;\n    }\n</style>\n<table border=\"1\" class=\"dataframe\">\n  <thead>\n    <tr style=\"text-align: right;\">\n      <th></th>\n      <th>name</th>\n      <th>online_order</th>\n      <th>book_table</th>\n      <th>rate</th>\n      <th>votes</th>\n      <th>phone</th>\n      <th>location</th>\n      <th>rest_type</th>\n      <th>cuisines</th>\n      <th>Cost2plates</th>\n      <th>Type</th>\n    </tr>\n  </thead>\n  <tbody>\n    <tr>\n      <th>0</th>\n      <td>Jalsa</td>\n      <td>Yes</td>\n      <td>Yes</td>\n      <td>4.1</td>\n      <td>775</td>\n      <td>080 42297555\\r\\n+91 9743772233</td>\n      <td>Banashankari</td>\n      <td>Casual Dining</td>\n      <td>North Indian, Mughlai, Chinese</td>\n      <td>800</td>\n      <td>Buffet</td>\n    </tr>\n    <tr>\n      <th>1</th>\n      <td>Spice Elephant</td>\n      <td>Yes</td>\n      <td>No</td>\n      <td>4.1</td>\n      <td>787</td>\n      <td>080 41714161</td>\n      <td>Banashankari</td>\n      <td>Casual Dining</td>\n      <td>Chinese, North Indian, Thai</td>\n      <td>800</td>\n      <td>Buffet</td>\n    </tr>\n    <tr>\n      <th>2</th>\n      <td>San Churro Cafe</td>\n      <td>Yes</td>\n      <td>No</td>\n      <td>3.8</td>\n      <td>918</td>\n      <td>+91 9663487993</td>\n      <td>Banashankari</td>\n      <td>Cafe, Casual Dining</td>\n      <td>Cafe, Mexican, Italian</td>\n      <td>800</td>\n      <td>Buffet</td>\n    </tr>\n    <tr>\n      <th>3</th>\n      <td>Addhuri Udupi Bhojana</td>\n      <td>No</td>\n      <td>No</td>\n      <td>3.7</td>\n      <td>88</td>\n      <td>+91 9620009302</td>\n      <td>Banashankari</td>\n      <td>Quick Bites</td>\n      <td>South Indian, North Indian</td>\n      <td>300</td>\n      <td>Buffet</td>\n    </tr>\n    <tr>\n      <th>4</th>\n      <td>Grand Village</td>\n      <td>No</td>\n      <td>No</td>\n      <td>3.8</td>\n      <td>166</td>\n      <td>+91 8026612447\\r\\n+91 9901210005</td>\n      <td>Basavanagudi</td>\n      <td>Casual Dining</td>\n      <td>North Indian, Rajasthani</td>\n      <td>600</td>\n      <td>Buffet</td>\n    </tr>\n  </tbody>\n</table>\n</div>"
          },
          "metadata": {}
        }
      ]
    },
    {
      "cell_type": "code",
      "source": [
        "df['Cost2plates'].unique()"
      ],
      "metadata": {
        "execution": {
          "iopub.status.busy": "2024-03-06T04:45:23.415512Z",
          "iopub.execute_input": "2024-03-06T04:45:23.416515Z",
          "iopub.status.idle": "2024-03-06T04:45:23.43108Z",
          "shell.execute_reply.started": "2024-03-06T04:45:23.416477Z",
          "shell.execute_reply": "2024-03-06T04:45:23.429277Z"
        },
        "trusted": true,
        "id": "VEcnrcPuHf-A",
        "outputId": "da290b84-7d5d-4e1f-fe96-27c0cdd6fae8"
      },
      "execution_count": null,
      "outputs": [
        {
          "execution_count": 44,
          "output_type": "execute_result",
          "data": {
            "text/plain": "array(['800', '300', '600', '700', '550', '500', '450', '650', '400',\n       '900', '200', '750', '150', '850', '100', '1,200', '350', '250',\n       '950', '1,000', '1,500', '1,300', '199', '80', '1,100', '160',\n       '1,600', '230', '130', '50', '190', '1,700', '1,400', '180',\n       '1,350', '2,200', '2,000', '1,800', '1,900', '330', '2,500',\n       '2,100', '3,000', '2,800', '3,400', '40', '1,250', '3,500',\n       '4,000', '2,400', '2,600', '120', '1,450', '469', '70', '3,200',\n       '60', '560', '240', '360', '6,000', '1,050', '2,300', '4,100',\n       '5,000', '3,700', '1,650', '2,700', '4,500', '140'], dtype=object)"
          },
          "metadata": {}
        }
      ]
    },
    {
      "cell_type": "code",
      "source": [
        "def handlecomma(value):\n",
        "    value = str(value)\n",
        "    if ',' in value:\n",
        "        value = value.replace(',','')\n",
        "        return float(value)\n",
        "    else:\n",
        "        return float(value)\n",
        "df['Cost2plates'] = df['Cost2plates'].apply(handlecomma)\n",
        "df['Cost2plates'].unique()\n",
        ""
      ],
      "metadata": {
        "execution": {
          "iopub.status.busy": "2024-03-06T04:45:23.43292Z",
          "iopub.execute_input": "2024-03-06T04:45:23.433358Z",
          "iopub.status.idle": "2024-03-06T04:45:23.47807Z",
          "shell.execute_reply.started": "2024-03-06T04:45:23.433309Z",
          "shell.execute_reply": "2024-03-06T04:45:23.476979Z"
        },
        "trusted": true,
        "id": "KJABpLhhHf-B",
        "outputId": "6713052c-165d-431a-9065-39d8ad267ef9"
      },
      "execution_count": null,
      "outputs": [
        {
          "execution_count": 45,
          "output_type": "execute_result",
          "data": {
            "text/plain": "array([ 800.,  300.,  600.,  700.,  550.,  500.,  450.,  650.,  400.,\n        900.,  200.,  750.,  150.,  850.,  100., 1200.,  350.,  250.,\n        950., 1000., 1500., 1300.,  199.,   80., 1100.,  160., 1600.,\n        230.,  130.,   50.,  190., 1700., 1400.,  180., 1350., 2200.,\n       2000., 1800., 1900.,  330., 2500., 2100., 3000., 2800., 3400.,\n         40., 1250., 3500., 4000., 2400., 2600.,  120., 1450.,  469.,\n         70., 3200.,   60.,  560.,  240.,  360., 6000., 1050., 2300.,\n       4100., 5000., 3700., 1650., 2700., 4500.,  140.])"
          },
          "metadata": {}
        }
      ]
    },
    {
      "cell_type": "code",
      "source": [
        "df.head()"
      ],
      "metadata": {
        "execution": {
          "iopub.status.busy": "2024-03-06T04:45:23.479563Z",
          "iopub.execute_input": "2024-03-06T04:45:23.479902Z",
          "iopub.status.idle": "2024-03-06T04:45:23.501849Z",
          "shell.execute_reply.started": "2024-03-06T04:45:23.479871Z",
          "shell.execute_reply": "2024-03-06T04:45:23.499813Z"
        },
        "trusted": true,
        "id": "r7Ampz9cHf-B",
        "outputId": "7f7d2130-5ef7-41de-de67-25ab84da5f56"
      },
      "execution_count": null,
      "outputs": [
        {
          "execution_count": 46,
          "output_type": "execute_result",
          "data": {
            "text/plain": "                    name online_order book_table  rate  votes  \\\n0                  Jalsa          Yes        Yes   4.1    775   \n1         Spice Elephant          Yes         No   4.1    787   \n2        San Churro Cafe          Yes         No   3.8    918   \n3  Addhuri Udupi Bhojana           No         No   3.7     88   \n4          Grand Village           No         No   3.8    166   \n\n                              phone      location            rest_type  \\\n0    080 42297555\\r\\n+91 9743772233  Banashankari        Casual Dining   \n1                      080 41714161  Banashankari        Casual Dining   \n2                    +91 9663487993  Banashankari  Cafe, Casual Dining   \n3                    +91 9620009302  Banashankari          Quick Bites   \n4  +91 8026612447\\r\\n+91 9901210005  Basavanagudi        Casual Dining   \n\n                         cuisines  Cost2plates    Type  \n0  North Indian, Mughlai, Chinese        800.0  Buffet  \n1     Chinese, North Indian, Thai        800.0  Buffet  \n2          Cafe, Mexican, Italian        800.0  Buffet  \n3      South Indian, North Indian        300.0  Buffet  \n4        North Indian, Rajasthani        600.0  Buffet  ",
            "text/html": "<div>\n<style scoped>\n    .dataframe tbody tr th:only-of-type {\n        vertical-align: middle;\n    }\n\n    .dataframe tbody tr th {\n        vertical-align: top;\n    }\n\n    .dataframe thead th {\n        text-align: right;\n    }\n</style>\n<table border=\"1\" class=\"dataframe\">\n  <thead>\n    <tr style=\"text-align: right;\">\n      <th></th>\n      <th>name</th>\n      <th>online_order</th>\n      <th>book_table</th>\n      <th>rate</th>\n      <th>votes</th>\n      <th>phone</th>\n      <th>location</th>\n      <th>rest_type</th>\n      <th>cuisines</th>\n      <th>Cost2plates</th>\n      <th>Type</th>\n    </tr>\n  </thead>\n  <tbody>\n    <tr>\n      <th>0</th>\n      <td>Jalsa</td>\n      <td>Yes</td>\n      <td>Yes</td>\n      <td>4.1</td>\n      <td>775</td>\n      <td>080 42297555\\r\\n+91 9743772233</td>\n      <td>Banashankari</td>\n      <td>Casual Dining</td>\n      <td>North Indian, Mughlai, Chinese</td>\n      <td>800.0</td>\n      <td>Buffet</td>\n    </tr>\n    <tr>\n      <th>1</th>\n      <td>Spice Elephant</td>\n      <td>Yes</td>\n      <td>No</td>\n      <td>4.1</td>\n      <td>787</td>\n      <td>080 41714161</td>\n      <td>Banashankari</td>\n      <td>Casual Dining</td>\n      <td>Chinese, North Indian, Thai</td>\n      <td>800.0</td>\n      <td>Buffet</td>\n    </tr>\n    <tr>\n      <th>2</th>\n      <td>San Churro Cafe</td>\n      <td>Yes</td>\n      <td>No</td>\n      <td>3.8</td>\n      <td>918</td>\n      <td>+91 9663487993</td>\n      <td>Banashankari</td>\n      <td>Cafe, Casual Dining</td>\n      <td>Cafe, Mexican, Italian</td>\n      <td>800.0</td>\n      <td>Buffet</td>\n    </tr>\n    <tr>\n      <th>3</th>\n      <td>Addhuri Udupi Bhojana</td>\n      <td>No</td>\n      <td>No</td>\n      <td>3.7</td>\n      <td>88</td>\n      <td>+91 9620009302</td>\n      <td>Banashankari</td>\n      <td>Quick Bites</td>\n      <td>South Indian, North Indian</td>\n      <td>300.0</td>\n      <td>Buffet</td>\n    </tr>\n    <tr>\n      <th>4</th>\n      <td>Grand Village</td>\n      <td>No</td>\n      <td>No</td>\n      <td>3.8</td>\n      <td>166</td>\n      <td>+91 8026612447\\r\\n+91 9901210005</td>\n      <td>Basavanagudi</td>\n      <td>Casual Dining</td>\n      <td>North Indian, Rajasthani</td>\n      <td>600.0</td>\n      <td>Buffet</td>\n    </tr>\n  </tbody>\n</table>\n</div>"
          },
          "metadata": {}
        }
      ]
    },
    {
      "cell_type": "code",
      "source": [
        "df['rest_type'].value_counts()"
      ],
      "metadata": {
        "execution": {
          "iopub.status.busy": "2024-03-06T04:45:23.503682Z",
          "iopub.execute_input": "2024-03-06T04:45:23.504378Z",
          "iopub.status.idle": "2024-03-06T04:45:23.520931Z",
          "shell.execute_reply.started": "2024-03-06T04:45:23.504305Z",
          "shell.execute_reply": "2024-03-06T04:45:23.519413Z"
        },
        "trusted": true,
        "id": "dokNjlFFHf-B",
        "outputId": "1414baae-6b1c-4334-a2aa-3067b126fc5f"
      },
      "execution_count": null,
      "outputs": [
        {
          "execution_count": 47,
          "output_type": "execute_result",
          "data": {
            "text/plain": "rest_type\nQuick Bites                   12726\nCasual Dining                  8052\nCafe                           2643\nDelivery                       1585\nDessert Parlor                 1535\n                              ...  \nMess, Quick Bites                 1\nPop Up                            1\nDessert Parlor, Food Court        1\nBakery, Food Court                1\nSweet Shop, Dessert Parlor        1\nName: count, Length: 91, dtype: int64"
          },
          "metadata": {}
        }
      ]
    },
    {
      "cell_type": "code",
      "source": [
        "rest_types = df['rest_type'].value_counts(ascending = False)\n",
        "rest_types"
      ],
      "metadata": {
        "execution": {
          "iopub.status.busy": "2024-03-06T04:45:23.522434Z",
          "iopub.execute_input": "2024-03-06T04:45:23.522795Z",
          "iopub.status.idle": "2024-03-06T04:45:23.544332Z",
          "shell.execute_reply.started": "2024-03-06T04:45:23.522766Z",
          "shell.execute_reply": "2024-03-06T04:45:23.543425Z"
        },
        "trusted": true,
        "id": "vcyWIY0HHf-C",
        "outputId": "d2bf410f-8d01-4009-efb4-1536f7846c3f"
      },
      "execution_count": null,
      "outputs": [
        {
          "execution_count": 48,
          "output_type": "execute_result",
          "data": {
            "text/plain": "rest_type\nQuick Bites                   12726\nCasual Dining                  8052\nCafe                           2643\nDelivery                       1585\nDessert Parlor                 1535\n                              ...  \nMess, Quick Bites                 1\nPop Up                            1\nDessert Parlor, Food Court        1\nBakery, Food Court                1\nSweet Shop, Dessert Parlor        1\nName: count, Length: 91, dtype: int64"
          },
          "metadata": {}
        }
      ]
    },
    {
      "cell_type": "code",
      "source": [
        "rest_types_lessthan1000 = rest_types[rest_types<1000]\n",
        "rest_types_lessthan1000"
      ],
      "metadata": {
        "execution": {
          "iopub.status.busy": "2024-03-06T04:45:23.545712Z",
          "iopub.execute_input": "2024-03-06T04:45:23.546659Z",
          "iopub.status.idle": "2024-03-06T04:45:23.557019Z",
          "shell.execute_reply.started": "2024-03-06T04:45:23.546622Z",
          "shell.execute_reply": "2024-03-06T04:45:23.556015Z"
        },
        "trusted": true,
        "id": "SQE1SnhtHf-C",
        "outputId": "1086f916-206d-4990-c757-a10711a9d86f"
      },
      "execution_count": null,
      "outputs": [
        {
          "execution_count": 49,
          "output_type": "execute_result",
          "data": {
            "text/plain": "rest_type\nCasual Dining, Bar            980\nBakery                        772\nBeverage Shop                 507\nBar                           490\nFood Court                    414\n                             ... \nMess, Quick Bites               1\nPop Up                          1\nDessert Parlor, Food Court      1\nBakery, Food Court              1\nSweet Shop, Dessert Parlor      1\nName: count, Length: 85, dtype: int64"
          },
          "metadata": {}
        }
      ]
    },
    {
      "cell_type": "code",
      "source": [
        "def handle_rest_type(value):\n",
        "    if(value in rest_types_lessthan1000):\n",
        "        return 'others'\n",
        "    else:\n",
        "        return value\n",
        "df['rest_type'] = df['rest_type'].apply(handle_rest_type)\n",
        "df['rest_type'].value_counts()"
      ],
      "metadata": {
        "execution": {
          "iopub.status.busy": "2024-03-06T04:45:23.559433Z",
          "iopub.execute_input": "2024-03-06T04:45:23.559862Z",
          "iopub.status.idle": "2024-03-06T04:45:23.704792Z",
          "shell.execute_reply.started": "2024-03-06T04:45:23.559787Z",
          "shell.execute_reply": "2024-03-06T04:45:23.70335Z"
        },
        "trusted": true,
        "id": "kwvR7ZgRHf-C",
        "outputId": "a85f9651-1f83-4f22-e82c-ef0b6c791801"
      },
      "execution_count": null,
      "outputs": [
        {
          "execution_count": 50,
          "output_type": "execute_result",
          "data": {
            "text/plain": "rest_type\nQuick Bites           12726\nothers                 8422\nCasual Dining          8052\nCafe                   2643\nDelivery               1585\nDessert Parlor         1535\nTakeaway, Delivery     1256\nName: count, dtype: int64"
          },
          "metadata": {}
        }
      ]
    },
    {
      "cell_type": "code",
      "source": [
        "df['location'].value_counts()"
      ],
      "metadata": {
        "execution": {
          "iopub.status.busy": "2024-03-06T04:45:23.706337Z",
          "iopub.execute_input": "2024-03-06T04:45:23.70716Z",
          "iopub.status.idle": "2024-03-06T04:45:23.725978Z",
          "shell.execute_reply.started": "2024-03-06T04:45:23.70712Z",
          "shell.execute_reply": "2024-03-06T04:45:23.724483Z"
        },
        "trusted": true,
        "id": "-lOWooNqHf-D",
        "outputId": "27c291b6-a03f-424a-ee88-543e5cfae917"
      },
      "execution_count": null,
      "outputs": [
        {
          "execution_count": 51,
          "output_type": "execute_result",
          "data": {
            "text/plain": "location\nBTM                      2784\nWhitefield               1951\nHSR                      1815\nIndiranagar              1776\nKoramangala 5th Block    1741\n                         ... \nCentral Bangalore           5\nNagarbhavi                  3\nRajarajeshwari Nagar        2\nJakkur                      1\nPeenya                      1\nName: count, Length: 93, dtype: int64"
          },
          "metadata": {}
        }
      ]
    },
    {
      "cell_type": "code",
      "source": [
        "location = df['location'].value_counts(ascending = False)\n",
        "location_lessthan300 = location[location<300]\n",
        "\n",
        "def handle_location(value):\n",
        "    if(value in location_lessthan300):\n",
        "        return 'others'\n",
        "    else:\n",
        "        return value\n",
        "\n",
        "df['location'] = df['location'].apply(handle_location)\n",
        "df['location'].value_counts()"
      ],
      "metadata": {
        "execution": {
          "iopub.status.busy": "2024-03-06T04:45:23.727544Z",
          "iopub.execute_input": "2024-03-06T04:45:23.727904Z",
          "iopub.status.idle": "2024-03-06T04:45:23.879744Z",
          "shell.execute_reply.started": "2024-03-06T04:45:23.727874Z",
          "shell.execute_reply": "2024-03-06T04:45:23.878513Z"
        },
        "trusted": true,
        "id": "RJavodM-Hf-D",
        "outputId": "8c28eaa4-4e2a-49d1-8c3a-d58695f2db8d"
      },
      "execution_count": null,
      "outputs": [
        {
          "execution_count": 52,
          "output_type": "execute_result",
          "data": {
            "text/plain": "location\nothers                   5043\nBTM                      2784\nWhitefield               1951\nHSR                      1815\nIndiranagar              1776\nKoramangala 5th Block    1741\nMarathahalli             1652\nJP Nagar                 1470\nJayanagar                1283\nElectronic City          1200\nBellandur                1107\nBannerghatta Road        1097\nSarjapur Road             937\nBrigade Road              732\nKoramangala 7th Block     726\nKoramangala 6th Block     690\nKoramangala 4th Block     663\nKoramangala 1st Block     655\nBanashankari              614\nBrookefield               609\nKalyan Nagar              608\nUlsoor                    583\nNew BEL Road              579\nMG Road                   562\nMalleshwaram              548\nFrazer Town               486\nBasavanagudi              473\nRajajinagar               457\nChurch Street             454\nBanaswadi                 450\nResidency Road            445\nKammanahalli              437\nRichmond Road             410\nLavelle Road              407\nOld Airport Road          404\nDomlur                    371\nName: count, dtype: int64"
          },
          "metadata": {}
        }
      ]
    },
    {
      "cell_type": "code",
      "source": [
        "cuisines = df['cuisines'].value_counts(ascending = False)\n",
        "cuisines_lessthan100 = cuisines[cuisines<100]\n",
        "\n",
        "def handle_cuisines(value):\n",
        "    if(value in cuisines_lessthan100):\n",
        "        return 'others'\n",
        "    else:\n",
        "        return value\n",
        "\n",
        "df['cuisines'] = df['cuisines'].apply(handle_cuisines)\n",
        "df['cuisines'].value_counts()"
      ],
      "metadata": {
        "execution": {
          "iopub.status.busy": "2024-03-06T04:45:23.881451Z",
          "iopub.execute_input": "2024-03-06T04:45:23.88185Z",
          "iopub.status.idle": "2024-03-06T04:45:24.021454Z",
          "shell.execute_reply.started": "2024-03-06T04:45:23.881819Z",
          "shell.execute_reply": "2024-03-06T04:45:24.020147Z"
        },
        "trusted": true,
        "id": "-ocwKiN0Hf-D",
        "outputId": "a08dad4d-2f57-40e1-abc3-11e80dcc8a58"
      },
      "execution_count": null,
      "outputs": [
        {
          "execution_count": 53,
          "output_type": "execute_result",
          "data": {
            "text/plain": "cuisines\nothers                                              20463\nNorth Indian                                         1961\nNorth Indian, Chinese                                1672\nSouth Indian                                         1165\nBakery, Desserts                                      620\nBiryani                                               582\nFast Food                                             512\nSouth Indian, North Indian, Chinese                   490\nCafe                                                  461\nDesserts                                              460\nBakery                                                410\nChinese                                               363\nIce Cream, Desserts                                   304\nChinese, North Indian                                 269\nMithai, Street Food                                   268\nNorth Indian, Chinese, Biryani                        239\nDesserts, Ice Cream                                   233\nNorth Indian, South Indian, Chinese                   229\nNorth Indian, South Indian                            229\nSouth Indian, North Indian                            217\nFinger Food                                           203\nNorth Indian, Biryani                                 200\nDesserts, Beverages                                   190\nBiryani, North Indian                                 186\nStreet Food                                           184\nBiryani, Kebab                                        183\nChinese, Momos                                        180\nBeverages, Fast Food                                  171\nCafe, Fast Food                                       161\nSouth Indian, Biryani                                 159\nBeverages                                             157\nSouth Indian, North Indian, Chinese, Street Food      151\nNorth Indian, Mughlai                                 151\nDesserts, Bakery                                      149\nKerala                                                147\nBurger, Fast Food                                     147\nSouth Indian, Chinese                                 147\nContinental                                           146\nNorth Indian, Fast Food                               134\nIce Cream                                             133\nFast Food, Beverages                                  132\nCafe, Continental                                     131\nChinese, Thai                                         130\nPizza, Fast Food                                      128\nBakery, Fast Food                                     128\nBiryani, North Indian, Chinese                        127\nNorth Indian, Chinese, South Indian                   124\nNorth Indian, Chinese, Fast Food                      124\nFast Food, Rolls                                      118\nAndhra                                                117\nAndhra, Biryani                                       112\nPizza                                                 110\nBiryani, Fast Food                                    109\nNorth Indian, Street Food                             102\nArabian                                               101\nName: count, dtype: int64"
          },
          "metadata": {}
        }
      ]
    },
    {
      "cell_type": "code",
      "source": [
        "df['location'] = df['location'].astype('category')\n"
      ],
      "metadata": {
        "execution": {
          "iopub.status.busy": "2024-03-06T04:50:45.239535Z",
          "iopub.execute_input": "2024-03-06T04:50:45.240344Z",
          "iopub.status.idle": "2024-03-06T04:50:45.252952Z",
          "shell.execute_reply.started": "2024-03-06T04:50:45.240272Z",
          "shell.execute_reply": "2024-03-06T04:50:45.251223Z"
        },
        "trusted": true,
        "id": "LF0wq_i-Hf-D"
      },
      "execution_count": null,
      "outputs": []
    },
    {
      "cell_type": "code",
      "source": [
        "plt.figure(figsize=(16, 12))\n",
        "ax = sns.countplot(x='location', data=df)\n",
        "plt.xticks(rotation=90)\n",
        "plt.show()"
      ],
      "metadata": {
        "execution": {
          "iopub.status.busy": "2024-03-06T04:50:49.644797Z",
          "iopub.execute_input": "2024-03-06T04:50:49.645296Z",
          "iopub.status.idle": "2024-03-06T04:50:50.415896Z",
          "shell.execute_reply.started": "2024-03-06T04:50:49.645259Z",
          "shell.execute_reply": "2024-03-06T04:50:50.414773Z"
        },
        "trusted": true,
        "id": "nKX6qqRTHf-D",
        "outputId": "422dc86f-962b-4236-82f3-9a73c0397391"
      },
      "execution_count": null,
      "outputs": [
        {
          "name": "stderr",
          "text": "/opt/conda/lib/python3.10/site-packages/seaborn/categorical.py:641: FutureWarning: The default of observed=False is deprecated and will be changed to True in a future version of pandas. Pass observed=False to retain current behavior or observed=True to adopt the future default and silence this warning.\n  grouped_vals = vals.groupby(grouper)\n",
          "output_type": "stream"
        },
        {
          "output_type": "display_data",
          "data": {
            "text/plain": "<Figure size 1600x1200 with 1 Axes>",
            "image/png": "[encoded data removed]"
          },
          "metadata": {}
        }
      ]
    },
    {
      "cell_type": "code",
      "source": [
        "df['online_order'] = df['online_order'].astype('category')\n"
      ],
      "metadata": {
        "execution": {
          "iopub.status.busy": "2024-03-06T04:45:24.212481Z",
          "iopub.status.idle": "2024-03-06T04:45:24.213177Z",
          "shell.execute_reply.started": "2024-03-06T04:45:24.212861Z",
          "shell.execute_reply": "2024-03-06T04:45:24.212885Z"
        },
        "trusted": true,
        "id": "cUiesJTUHf-E"
      },
      "execution_count": null,
      "outputs": []
    },
    {
      "cell_type": "code",
      "source": [
        "plt.figure(figsize=(6, 6))\n",
        "sns.countplot(x='online_order', data=df, palette='inferno')\n",
        "plt.show()"
      ],
      "metadata": {
        "execution": {
          "iopub.status.busy": "2024-03-06T04:54:37.352962Z",
          "iopub.execute_input": "2024-03-06T04:54:37.353469Z",
          "iopub.status.idle": "2024-03-06T04:54:37.622783Z",
          "shell.execute_reply.started": "2024-03-06T04:54:37.353427Z",
          "shell.execute_reply": "2024-03-06T04:54:37.621532Z"
        },
        "trusted": true,
        "id": "RDuF7nxxHf-E",
        "outputId": "f943c556-b6a7-41c3-8e0e-82a3409daec2"
      },
      "execution_count": null,
      "outputs": [
        {
          "output_type": "display_data",
          "data": {
            "text/plain": "<Figure size 600x600 with 1 Axes>",
            "image/png": "[encoded data removed]"
          },
          "metadata": {}
        }
      ]
    },
    {
      "cell_type": "code",
      "source": [],
      "metadata": {
        "id": "XZK5Z3qCHf-E"
      },
      "execution_count": null,
      "outputs": []
    }
  ]
}